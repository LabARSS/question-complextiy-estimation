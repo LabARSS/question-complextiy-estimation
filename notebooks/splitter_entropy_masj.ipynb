{
 "cells": [
  {
   "cell_type": "code",
   "execution_count": null,
   "id": "63e1f36f",
   "metadata": {},
   "outputs": [],
   "source": [
    "import pandas as pd\n",
    "import numpy as np\n",
    "import matplotlib.pyplot as plt\n",
    "from sklearn.model_selection import train_test_split\n",
    "\n",
    "\n",
    "df = pd.read_csv(\"mmlu_pro_stem_w_filtered_numerical_maj_w_entropyphi4.tsv\", sep=\"\\t\")\n",
    "\n",
    "\n",
    "train_valid_df, test_df = train_test_split(df, test_size=0.1, random_state=42)\n",
    "test_df.to_csv(\"test_combined_masj.tsv\", sep=\"\\t\", index=False)\n",
    "print(f\"Тестовый датасет: {len(test_df)} примеров сохранён в 'test.tsv'.\")\n",
    "\n",
    "train_valid_df = train_valid_df.sort_values(by=\"masj_num_complexity\", ascending=False)\n",
    "N = len(train_valid_df)\n",
    "print(f\"Всего обучающих+валидационных примеров: {N}\")\n",
    "\n",
    "def split_and_save_data(\n",
    "    df,\n",
    "    complexity_col='masj_num_complexity',\n",
    "    thresholds=[(None, 0.4, 'easy'), (0.4, 0.6, 'middle'), (0.6, None, 'hard')],\n",
    "    test_size=0.1,\n",
    "    random_state=42,\n",
    "    output_prefix=\"\"\n",
    "    ):\n",
    "    \"\"\"\n",
    "    Разделяет данные по уровням сложности и сохраняет в TSV-файлы.\n",
    "    \"\"\"\n",
    "    for lower, upper, suffix in thresholds:\n",
    "        if lower is None:\n",
    "            filtered = df[df[complexity_col] < upper]\n",
    "        elif upper is None:\n",
    "            filtered = df[df[complexity_col] >= lower]\n",
    "        else:\n",
    "            filtered = df[(df[complexity_col] >= lower) & (df[complexity_col] < upper)]\n",
    "        \n",
    "        filtered = filtered.reset_index(drop=True)\n",
    "        \n",
    "        train, valid = train_test_split(filtered, test_size=test_size, random_state=random_state)\n",
    "        \n",
    "        train.to_csv(f\"{output_prefix}train_df_{suffix}.tsv\", sep='\\t', index=False)\n",
    "        valid.to_csv(f\"{output_prefix}valid_df_{suffix}.tsv\", sep='\\t', index=False)\n",
    "\n",
    "split_and_save_data(train_valid_df, complexity_col='masj_num_complexity')"
   ]
  }
 ],
 "metadata": {
  "kernelspec": {
   "display_name": "Google Colab Analog 2024 (PyTorch 2.5.1 + TensorFlow 2.18) [python-google_colab_gpu_2024]",
   "language": "python",
   "name": "conda-env-python-google_colab_gpu_2024-py"
  },
  "language_info": {
   "codemirror_mode": {
    "name": "ipython",
    "version": 3
   },
   "file_extension": ".py",
   "mimetype": "text/x-python",
   "name": "python",
   "nbconvert_exporter": "python",
   "pygments_lexer": "ipython3",
   "version": "3.10.15"
  }
 },
 "nbformat": 4,
 "nbformat_minor": 5
}
