{
 "cells": [
  {
   "cell_type": "code",
   "execution_count": 1,
   "metadata": {},
   "outputs": [
    {
     "name": "stdout",
     "output_type": "stream",
     "text": [
      "mistral-large-2411 Determining the \"best\" French cheese can\n",
      "mistral-large-2411 Choosing the \"best\" French cheese can be\n"
     ]
    }
   ],
   "source": [
    "import os\n",
    "\n",
    "from mistralai import Mistral\n",
    "\n",
    "api_keys = os.environ[\"MISTRAL_API_KEYS\"]\n",
    "model = \"mistral-large-2411\"\n",
    "\n",
    "clients = [\n",
    "    Mistral(\n",
    "        api_key=api_key,\n",
    "    )\n",
    "    for api_key in api_keys.split(\",\")\n",
    "]\n",
    "\n",
    "for client in clients:\n",
    "    # Check API is alive\n",
    "    chat_response = client.chat.complete(\n",
    "        model=model,\n",
    "        messages=[\n",
    "            {\n",
    "                \"role\": \"user\",\n",
    "                \"content\": \"What is the best French cheese?\",\n",
    "            },\n",
    "        ],\n",
    "        max_tokens=10,\n",
    "    )\n",
    "    print(chat_response.model, chat_response.choices[0].message.content)"
   ]
  },
  {
   "cell_type": "code",
   "execution_count": 7,
   "metadata": {},
   "outputs": [
    {
     "name": "stdout",
     "output_type": "stream",
     "text": [
      "Sleep duration: 0.5\n"
     ]
    }
   ],
   "source": [
    "from time import sleep\n",
    "\n",
    "from mistralai import SDKError\n",
    "from openai import RateLimitError\n",
    "\n",
    "SLEEP_DURATION = 1.2\n",
    "if len(clients) == 2:\n",
    "    SLEEP_DURATION = 0.5\n",
    "if len(clients) >= 3:\n",
    "    SLEEP_DURATION = 0.2\n",
    "\n",
    "print(\"Sleep duration:\", SLEEP_DURATION)\n",
    "\n",
    "\n",
    "def wait(duration=SLEEP_DURATION):\n",
    "    sleep(duration)\n",
    "\n",
    "\n",
    "api_limit_hits_by_client_ids = {}\n",
    "\n",
    "\n",
    "def init_api_limits() -> None:\n",
    "    global api_limit_hits_by_client_ids\n",
    "\n",
    "    api_limit_hits_by_client_ids = {}\n",
    "    for i in range(len(clients)):\n",
    "        api_limit_hits_by_client_ids[i] = 0\n",
    "\n",
    "\n",
    "request_id = 0\n",
    "\n",
    "\n",
    "def repeat_if_hit_api_limit(f):  # (1)\n",
    "    def wrapper(*args, **kw):  # (2)\n",
    "        global api_limit_hits_by_client_ids\n",
    "\n",
    "        while True:\n",
    "            try:\n",
    "                return f(*args, **kw)\n",
    "            except RateLimitError:\n",
    "                client_id = request_id % len(clients)\n",
    "                api_limit_hits_by_client_ids[client_id] += 1\n",
    "\n",
    "                total_hits = 0\n",
    "                for value in api_limit_hits_by_client_ids.values():\n",
    "                    total_hits += value\n",
    "\n",
    "                if (total_hits % 10) == 0:\n",
    "                    print(f\"API limit hit {total_hits} times. Details: {api_limit_hits_by_client_ids}\")\n",
    "                wait(2)\n",
    "            except SDKError as e:\n",
    "                if e.status_code == 429:\n",
    "                    client_id = request_id % len(clients)\n",
    "                    api_limit_hits_by_client_ids[client_id] += 1\n",
    "\n",
    "                    total_hits = 0\n",
    "                    for value in api_limit_hits_by_client_ids.values():\n",
    "                        total_hits += value\n",
    "\n",
    "                    if (total_hits % 10) == 0:\n",
    "                        print(f\"API limit hit {total_hits} times. Details: {api_limit_hits_by_client_ids}\")\n",
    "                    wait(2)\n",
    "                else:\n",
    "                    raise e\n",
    "            except Exception as e:\n",
    "                print(\"repeat_if_hit_api_limit -> unknown error\", e)\n",
    "                wait(60)\n",
    "\n",
    "    return wrapper\n",
    "\n",
    "\n",
    "@repeat_if_hit_api_limit\n",
    "def query_model(messages):\n",
    "    global request_id\n",
    "    # print(request_id % len(clients))\n",
    "    client = clients[request_id % len(clients)]\n",
    "    request_id += 1\n",
    "    response = client.chat.complete(model=model, messages=messages)\n",
    "    return response"
   ]
  },
  {
   "cell_type": "code",
   "execution_count": 8,
   "metadata": {},
   "outputs": [
    {
     "data": {
      "text/plain": [
       "<module 'utils.prompt' from '/Users/aigoncharov/dev/sktech/phi-4/utils/prompt.py'>"
      ]
     },
     "execution_count": 8,
     "metadata": {},
     "output_type": "execute_result"
    }
   ],
   "source": [
    "import os\n",
    "import sys\n",
    "\n",
    "dir2 = os.path.abspath(\"\")\n",
    "dir1 = os.path.dirname(dir2)\n",
    "if dir1 not in sys.path:\n",
    "    sys.path.append(dir1)\n",
    "\n",
    "import importlib\n",
    "\n",
    "import utils.prompt as prompt\n",
    "\n",
    "# Required to purge the module cache and use the latest version after an update\n",
    "importlib.reload(prompt)"
   ]
  },
  {
   "cell_type": "code",
   "execution_count": 9,
   "metadata": {},
   "outputs": [],
   "source": [
    "import csv\n",
    "import os.path\n",
    "import re\n",
    "\n",
    "import pandas as pd\n",
    "from tqdm import tqdm\n",
    "\n",
    "import utils.prompt as prompt\n",
    "\n",
    "# difficulty = [\"middle_school\", \"high_school\", \"undergraduate\", \"postgraduate\", \"phd\"]\n",
    "ratings = list(range(1, 11, 1))\n",
    "\n",
    "invalid_complexities = 0\n",
    "invalid_ratings = 0\n",
    "\n",
    "\n",
    "def model_as_judge(df, index, system_prompt, user_prompt, answer):\n",
    "    global invalid_ratings\n",
    "\n",
    "    chat_response = query_model(\n",
    "        [\n",
    "            {\n",
    "                \"role\": \"system\",\n",
    "                \"content\": 'Please act as an impartial judge and evaluate the quality of the response provided by an AI assistant to the user request displayed below. Your evaluation should consider factors such as the following all the settings in the system prompt, correspondences to the context of the user, the helpfulness, relevance and accuracy. Begin your evaluation by providing a short explanation. Be as objective as possible. After providing your explanation, you must rate the response on a scale of 1 to 10 by strictly following this format: \"[[rating]]\", for example:\"Rating: [[6]]\".',\n",
    "            },\n",
    "            {\n",
    "                \"role\": \"user\",\n",
    "                \"content\": f\"\"\"\n",
    "                [Instructions for Assistant]\n",
    "                {system_prompt}\n",
    "                [End of Instructions for Assistant]\n",
    "\n",
    "                [Question]\n",
    "                {user_prompt}\n",
    "                [End of Question]\n",
    "\n",
    "                [The Start of Assistant’s Answer]\n",
    "                {answer}\n",
    "                [The End of Assistant’s Answer]\n",
    "                \"\"\",\n",
    "            },\n",
    "        ]\n",
    "    )\n",
    "    response = chat_response.choices[0].message.content\n",
    "    # print(response)\n",
    "\n",
    "    try:\n",
    "        rating = re.search(\"\\\\[\\\\[(\\\\d+?)\\\\]\\\\]\", response).group(1)\n",
    "        # print(rating)\n",
    "        rating_int = int(rating)\n",
    "        if rating_int in ratings:\n",
    "            df.at[index, \"masj_num_rating\"] = rating_int\n",
    "        else:\n",
    "            invalid_ratings += 1\n",
    "    except:\n",
    "        print(f\"Could not extract rating from response:\\n{response}\\n\")\n",
    "        invalid_ratings += 1\n",
    "\n",
    "\n",
    "def estimate_complextiy_with_model(df, index, system_prompt, user_prompt):\n",
    "    global invalid_complexities\n",
    "\n",
    "    chat_response = query_model(\n",
    "        [\n",
    "            {\n",
    "                \"role\": \"system\",\n",
    "                \"content\": system_prompt,\n",
    "            },\n",
    "            {\n",
    "                \"role\": \"user\",\n",
    "                \"content\": f\"\"\"\n",
    "                [Question Start]\n",
    "                {user_prompt}\n",
    "                [Question End]\n",
    "                \"\"\",\n",
    "            },\n",
    "        ]\n",
    "    )\n",
    "    response = chat_response.choices[0].message.content\n",
    "    # print(response)\n",
    "\n",
    "    try:\n",
    "        complexity_str = re.search(\"\\\\[\\\\[(.+?)\\\\]\\\\]\", response).group(1)\n",
    "        # print(complexity_str)\n",
    "        complexity = float(complexity_str)\n",
    "\n",
    "        if complexity >= 0.0 and complexity <= 1.0:\n",
    "            df.at[index, \"masj_num_complexity\"] = complexity\n",
    "        else:\n",
    "            invalid_complexities += 1\n",
    "    except:\n",
    "        print(f\"Could not extract complexity from response:\\n{response}\\n\")\n",
    "        invalid_complexities += 1\n",
    "\n",
    "    return response\n",
    "\n",
    "\n",
    "DUMP_EVERY = 50\n",
    "\n",
    "\n",
    "def estimate_dataset(in_filename, out_filename, get_question_from_row, get_options_from_row):\n",
    "    if os.path.isfile(out_filename):\n",
    "        df = pd.read_csv(\n",
    "            out_filename,\n",
    "            sep=\"\\t\",\n",
    "            header=0,\n",
    "            quoting=csv.QUOTE_NONE,\n",
    "            quotechar=\"\",\n",
    "            escapechar=\"\\\\\",\n",
    "        )\n",
    "    else:\n",
    "        try:\n",
    "            df = pd.read_csv(\n",
    "                in_filename,\n",
    "                sep=\"\\t\",\n",
    "                header=0,\n",
    "            )\n",
    "        except:\n",
    "            df = pd.read_csv(\n",
    "                in_filename,\n",
    "                sep=\"\\t\",\n",
    "                header=0,\n",
    "                quoting=csv.QUOTE_NONE,\n",
    "                quotechar=\"\",\n",
    "                escapechar=\"\\\\\",\n",
    "            )\n",
    "\n",
    "    global invalid_complexities\n",
    "    global invalid_ratings\n",
    "    invalid_complexities = 0\n",
    "    invalid_ratings = 0\n",
    "    init_api_limits()\n",
    "\n",
    "    if \"masj_num_complexity\" not in df.columns:\n",
    "        df[\"masj_num_complexity\"] = -1.0\n",
    "    if \"masj_num_rating\" not in df.columns:\n",
    "        df[\"masj_num_rating\"] = 0\n",
    "\n",
    "    meaningful_iteration = 0\n",
    "    for index, row in tqdm(df.iterrows(), total=df.shape[0]):\n",
    "        if (\n",
    "            isinstance(df.at[index, \"masj_num_complexity\"], float)\n",
    "            and df.at[index, \"masj_num_complexity\"] >= 0.0\n",
    "            and df.at[index, \"masj_num_complexity\"] <= 1.0\n",
    "            and df.at[index, \"masj_num_rating\"] in ratings\n",
    "        ):\n",
    "            continue\n",
    "\n",
    "        meaningful_iteration += 1\n",
    "\n",
    "        complexity_system_prompt = 'You are an expert in the topic of the question. Please act as an impartial judge and evaluate the complexity of the multiple-choice question with options below. Begin your evaluation by providing a short explanation. Be as objective as possible. After providing your explanation, you must not answer the question. You must rate the question complexity as a number from 0 to 1 following the following scale as a reference: middle_school - 0.0-0.2, high_school - 0.2-0.4, undergraduate - 0.4-0.6, postgraduate - 0.6-0.8, phd - 0.8-1.0. You must return the complexity by strictly following this format: \"[[complexity]]\", for example: \"Complexity: [[0.55]]\", which corresponds to the undergraduate level.'\n",
    "        complexity_user_prompt = prompt.get_user_prompt(get_question_from_row(row), get_options_from_row(row))\n",
    "        # print(complexity_user_prompt)\n",
    "\n",
    "        response_complexity = estimate_complextiy_with_model(\n",
    "            df, index, complexity_system_prompt, complexity_user_prompt\n",
    "        )\n",
    "        wait()\n",
    "\n",
    "        model_as_judge(df, index, complexity_system_prompt, complexity_user_prompt, response_complexity)\n",
    "        wait()\n",
    "\n",
    "        if meaningful_iteration % DUMP_EVERY == 0:\n",
    "            df.to_csv(out_filename, sep=\"\\t\", quoting=csv.QUOTE_NONE, quotechar=\"\", escapechar=\"\\\\\", index=False)\n",
    "            print(f\"Over {meaningful_iteration} iterations we hit {api_limit_hits} API limits\")\n",
    "\n",
    "    df.to_csv(out_filename, sep=\"\\t\", quoting=csv.QUOTE_NONE, quotechar=\"\", escapechar=\"\\\\\", index=False)\n",
    "    print(\n",
    "        f\"Processed dataset {out_filename}. Total entries: {df.shape[0]}. Invalid complexities: {invalid_complexities}. Invalid ratings: {invalid_ratings}\"\n",
    "    )\n",
    "    return df"
   ]
  },
  {
   "cell_type": "code",
   "execution_count": 10,
   "metadata": {},
   "outputs": [
    {
     "name": "stderr",
     "output_type": "stream",
     "text": [
      "  0%|          | 52/12018 [00:05<20:55,  9.53it/s]"
     ]
    },
    {
     "name": "stdout",
     "output_type": "stream",
     "text": [
      "Could not extract rating from response:\n",
      "The assistant's response provides a clear and concise explanation of the steps required to solve the problem. The question involves basic arithmetic operations (subtraction and division), which are typically covered in middle school. The complexity is slightly increased by the number of options, but the core calculations remain straightforward.\n",
      "\n",
      "Rating: [[0.12]]\n",
      "\n"
     ]
    },
    {
     "name": "stderr",
     "output_type": "stream",
     "text": [
      " 17%|█▋        | 2019/12018 [05:17<34:27,  4.84it/s]  "
     ]
    },
    {
     "name": "stdout",
     "output_type": "stream",
     "text": [
      "Over 50 iterations we hit 0 API limits\n"
     ]
    },
    {
     "name": "stderr",
     "output_type": "stream",
     "text": [
      " 25%|██▌       | 3040/12018 [08:15<22:16,  6.72it/s]  "
     ]
    },
    {
     "name": "stdout",
     "output_type": "stream",
     "text": [
      "Could not extract rating from response:\n",
      "The assistant's explanation is clear and concise, accurately describing the principles and knowledge required to solve the problem. The question indeed involves understanding electrolysis, Faraday's laws, and the molar mass of chlorine, which are typically covered in undergraduate-level chemistry courses. The calculation involves applying these principles to determine the amount of chlorine produced, which requires a solid foundation in these concepts.\n",
      "\n",
      "Complexity: [[0.55]]\n",
      "\n"
     ]
    },
    {
     "name": "stderr",
     "output_type": "stream",
     "text": [
      " 34%|███▍      | 4146/12018 [11:01<21:07,  6.21it/s]"
     ]
    },
    {
     "name": "stdout",
     "output_type": "stream",
     "text": [
      "Over 100 iterations we hit 0 API limits\n",
      "Could not extract rating from response:\n",
      "The explanation provided by the assistant is clear and concise. The assistant correctly identifies that the question involves basic arithmetic and proportional reasoning, which are typically taught in middle school mathematics classes. The assistant's evaluation is objective and relevant to the context of the question.\n",
      "\n",
      "Complexity: [[0.1]]\n",
      "\n"
     ]
    },
    {
     "name": "stderr",
     "output_type": "stream",
     "text": [
      " 41%|████      | 4908/12018 [13:28<41:28,  2.86it/s]"
     ]
    },
    {
     "name": "stdout",
     "output_type": "stream",
     "text": [
      "Could not extract rating from response:\n",
      "The assistant's response provides a clear and concise explanation of the complexity of the question. The question requires an understanding of combinatorics and probability theory, specifically as it applies to poker hands. This level of understanding is typically developed in undergraduate-level mathematics or statistics courses. The assistant correctly identifies that the solution involves calculating the number of favorable outcomes (four cards of the same rank and one of a different rank) and dividing by the total number of possible outcomes (all possible poker hands). This process requires a solid foundation in the relevant mathematical concepts.\n",
      "\n",
      "Complexity: [[0.55]]\n",
      "\n"
     ]
    },
    {
     "name": "stderr",
     "output_type": "stream",
     "text": [
      " 44%|████▍     | 5311/12018 [14:19<26:05,  4.28it/s]"
     ]
    },
    {
     "name": "stdout",
     "output_type": "stream",
     "text": [
      "Could not extract rating from response:\n",
      "The assistant's response effectively breaks down the requirements to understand and answer the question, highlighting the need for knowledge in Unix file descriptors, inter-process communication, and the OKWS design. The response also correctly identifies that the question delves into advanced topics in Unix programming, which aligns with a postgraduate level of complexity. The explanation is clear, concise, and relevant to the task of evaluating the question's complexity.\n",
      "\n",
      "Complexity: [[0.7]]\n",
      "\n"
     ]
    },
    {
     "name": "stderr",
     "output_type": "stream",
     "text": [
      " 45%|████▌     | 5413/12018 [14:40<28:11,  3.91it/s]"
     ]
    },
    {
     "name": "stdout",
     "output_type": "stream",
     "text": [
      "Could not extract rating from response:\n",
      "The assistant's response provides a clear and concise explanation of the requirements to answer the question correctly. The question indeed requires knowledge of various machine learning algorithms and their categorizations, which is typically covered in undergraduate-level machine learning courses. The assistant objectively assessed the complexity of the question without answering it, which aligns with the given instructions.\n",
      "\n",
      "Complexity: [[0.45]]\n",
      "\n"
     ]
    },
    {
     "name": "stderr",
     "output_type": "stream",
     "text": [
      " 48%|████▊     | 5783/12018 [15:28<11:30,  9.03it/s]"
     ]
    },
    {
     "name": "stdout",
     "output_type": "stream",
     "text": [
      "Could not extract rating from response:\n",
      "The assistant's response provides a clear and concise explanation of the knowledge required to solve the given problem. The response highlights that the question involves electrical engineering concepts such as induction motors, power factor correction, and capacitor calculations, which are typically covered in undergraduate-level courses. This explanation is relevant and accurate, as it correctly identifies the complexity of the question without revealing the answer.\n",
      "\n",
      "Complexity: [[0.55]]\n",
      "\n"
     ]
    },
    {
     "name": "stderr",
     "output_type": "stream",
     "text": [
      " 51%|█████▏    | 6165/12018 [16:42<26:39,  3.66it/s]"
     ]
    },
    {
     "name": "stdout",
     "output_type": "stream",
     "text": [
      "Over 150 iterations we hit 0 API limits\n"
     ]
    },
    {
     "name": "stderr",
     "output_type": "stream",
     "text": [
      " 62%|██████▏   | 7507/12018 [18:49<06:48, 11.03it/s]"
     ]
    },
    {
     "name": "stdout",
     "output_type": "stream",
     "text": [
      "Could not extract rating from response:\n",
      "The[control_746]\n",
      "\n"
     ]
    },
    {
     "name": "stderr",
     "output_type": "stream",
     "text": [
      " 73%|███████▎  | 8785/12018 [21:51<08:58,  6.00it/s]"
     ]
    },
    {
     "name": "stdout",
     "output_type": "stream",
     "text": [
      "Over 200 iterations we hit 0 API limits\n",
      "Could not extract rating from response:\n",
      "The assistant's response provides a clear and concise explanation of the complexity of the given multiple-choice question. The response highlights the key legal principles involved (negligence, proximate cause, foreseeability, and intervening/superseding causes) and notes the need to apply these principles to a complex fact pattern. This explanation is helpful, relevant, and accurate, as it directly corresponds to the context of the user's request and the settings in the system prompt.\n",
      "\n",
      "The assistant's response objectively evaluates the question's complexity, considering the required legal knowledge and the need to analyze multiple events and parties. The response then rates the question's complexity as 0.7 on the given scale, corresponding to the postgraduate level. This rating seems appropriate, given the required understanding of tort law principles.\n",
      "\n",
      "Rating: 10\n",
      "\n"
     ]
    },
    {
     "name": "stderr",
     "output_type": "stream",
     "text": [
      " 77%|███████▋  | 9227/12018 [22:53<05:46,  8.04it/s]"
     ]
    },
    {
     "name": "stdout",
     "output_type": "stream",
     "text": [
      "Could not extract rating from response:\n",
      "The assistant's response provides a clear and concise explanation of the complexity of the given question. The response accurately identifies that the question involves quantum tunneling and requires the application of the transmission coefficient formula derived from the Schrödinger equation. This indicates a good understanding of the context and the underlying principles needed to solve the problem.\n",
      "\n",
      "The response also correctly notes that solving this question requires knowledge of quantum mechanics, including Planck's constant, and the ability to handle exponential functions and complex numbers. This aligns well with the postgraduate level of complexity, as it demands a deeper understanding of advanced physics concepts and mathematical skills.\n",
      "\n",
      "Overall, the response is helpful, relevant, and accurate in assessing the complexity of the question.\n",
      "\n",
      "Complexity: [[0.65]]\n",
      "\n"
     ]
    },
    {
     "name": "stderr",
     "output_type": "stream",
     "text": [
      " 83%|████████▎ | 9917/12018 [24:22<07:00,  5.00it/s]"
     ]
    },
    {
     "name": "stdout",
     "output_type": "stream",
     "text": [
      "Could not extract rating from response:\n",
      "The assistant's response provides a clear and concise explanation of the concepts required to solve the problem, highlighting the need for understanding thermodynamics and the behavior of ideal gases. The response correctly identifies that the question involves calculating the change in entropy during an isothermal reversible expansion, which is a topic typically covered in undergraduate-level chemistry or physics courses. The response also mentions the relevant formula and the need to use the ideal gas law, demonstrating a good grasp of the subject matter.\n",
      "\n",
      "Complexity: [[0.55]]\n",
      "\n"
     ]
    },
    {
     "name": "stderr",
     "output_type": "stream",
     "text": [
      " 83%|████████▎ | 10026/12018 [27:54<4:41:39,  8.48s/it]"
     ]
    },
    {
     "name": "stdout",
     "output_type": "stream",
     "text": [
      "Over 250 iterations we hit 0 API limits\n"
     ]
    },
    {
     "name": "stderr",
     "output_type": "stream",
     "text": [
      " 84%|████████▎ | 10040/12018 [29:37<4:11:31,  7.63s/it]"
     ]
    },
    {
     "name": "stdout",
     "output_type": "stream",
     "text": [
      "Could not extract rating from response:\n",
      "The assistant's response provides a clear and concise explanation of the principles required to solve the problem. The question involves understanding the photoelectric effect and band gap energy in semiconductors, which are typically covered in undergraduate-level physics or material science courses. The response correctly identifies that the solution requires the use of Planck's equation (E=hc/λ), which is a fundamental concept in quantum mechanics.\n",
      "\n",
      "The explanation is helpful, relevant, and accurate, providing the necessary context for understanding the complexity of the question. The response does not answer the question directly, adhering to the instructions provided.\n",
      "\n",
      "Rating the complexity of the question on the given scale:\n",
      "\n",
      "Complexity: [[0.5]]\n",
      "\n"
     ]
    },
    {
     "name": "stderr",
     "output_type": "stream",
     "text": [
      " 84%|████████▎ | 10041/12018 [29:43<3:55:58,  7.16s/it]"
     ]
    },
    {
     "name": "stdout",
     "output_type": "stream",
     "text": [
      "Could not extract complexity from response:\n",
      "To evaluate the complexity of this question, we need to consider the background knowledge required to understand and solve it. The question involves calculating the uncertainty of the z-component of the angular momentum ($L_z$) for a specific stationary state ($2p_z$) of the hydrogen atom. This topic falls within the realm of quantum mechanics, specifically the study of atomic structure and angular momentum.\n",
      "\n",
      "To address this question, one needs to be familiar with:\n",
      "1. **Quantum Mechanics**: Understanding of quantum states, wavefunctions, and operators.\n",
      "2. **Angular Momentum**: Knowledge of angular momentum operators, particularly $L_z$, and their eigenvalues.\n",
      "3. **Hydrogen Atom**: Familiarity with the stationary states of the hydrogen atom, including the $2p_z$ state.\n",
      "4. **Uncertainty Principle**: Understanding how to calculate uncertainties in quantum mechanics.\n",
      "\n",
      "Given these requirements, the question is not suitable for middle school or high school students, as it involves advanced concepts from quantum mechanics typically covered in undergraduate or postgraduate physics courses.\n",
      "\n",
      "Complexity: 0.7\n",
      "\n"
     ]
    },
    {
     "name": "stderr",
     "output_type": "stream",
     "text": [
      " 84%|████████▍ | 10076/12018 [34:39<4:06:58,  7.63s/it]"
     ]
    },
    {
     "name": "stdout",
     "output_type": "stream",
     "text": [
      "Over 300 iterations we hit 0 API limits\n"
     ]
    },
    {
     "name": "stderr",
     "output_type": "stream",
     "text": [
      " 84%|████████▍ | 10122/12018 [40:22<4:15:20,  8.08s/it]"
     ]
    },
    {
     "name": "stdout",
     "output_type": "stream",
     "text": [
      "Could not extract rating from response:\n",
      "The assistant's response provides a clear and concise explanation of the concepts required to understand the question, highlighting the relationship between electromotive force (emf), the equilibrium constant (K), and the reaction quotient (Q). The response correctly identifies that this topic is typically covered in undergraduate-level chemistry courses, specifically in physical chemistry. The explanation is relevant, accurate, and helpful in understanding the complexity of the question without directly answering it.\n",
      "\n",
      "Complexity: [[0.55]]\n",
      "\n"
     ]
    },
    {
     "name": "stderr",
     "output_type": "stream",
     "text": [
      " 84%|████████▍ | 10126/12018 [40:50<3:55:44,  7.48s/it]"
     ]
    },
    {
     "name": "stdout",
     "output_type": "stream",
     "text": [
      "Over 350 iterations we hit 0 API limits\n"
     ]
    },
    {
     "name": "stderr",
     "output_type": "stream",
     "text": [
      " 85%|████████▍ | 10176/12018 [46:51<4:08:22,  8.09s/it]"
     ]
    },
    {
     "name": "stdout",
     "output_type": "stream",
     "text": [
      "Over 400 iterations we hit 0 API limits\n"
     ]
    },
    {
     "name": "stderr",
     "output_type": "stream",
     "text": [
      " 85%|████████▌ | 10221/12018 [52:03<3:22:34,  6.76s/it]"
     ]
    },
    {
     "name": "stdout",
     "output_type": "stream",
     "text": [
      "Could not extract rating from response:\n",
      "The assistant's response accurately assesses the complexity of the question. The problem involves understanding error propagation and the use of differentials, which are concepts typically covered in undergraduate-level physics or mathematics courses. The response correctly identifies that the question requires applying the formula for the propagation of uncertainty for the product of two measured quantities, which is indeed a more advanced topic than what is usually covered in high school.\n",
      "\n",
      "Complexity: [[0.6]]\n",
      "\n"
     ]
    },
    {
     "name": "stderr",
     "output_type": "stream",
     "text": [
      " 85%|████████▌ | 10226/12018 [52:38<3:34:53,  7.19s/it]"
     ]
    },
    {
     "name": "stdout",
     "output_type": "stream",
     "text": [
      "Over 450 iterations we hit 0 API limits\n"
     ]
    },
    {
     "name": "stderr",
     "output_type": "stream",
     "text": [
      " 85%|████████▌ | 10247/12018 [54:59<3:04:53,  6.26s/it]"
     ]
    },
    {
     "name": "stdout",
     "output_type": "stream",
     "text": [
      "Could not extract rating from response:\n",
      "The assistant's response provides a clear and objective evaluation of the complexity of the multiple-choice question. The explanation highlights the key factors that contribute to the question's complexity, including the need to understand principles of tort law, specifically strict liability, and the requirement to apply these principles to a detailed factual scenario. The response also notes the length of the question, the number of options, and the legal analysis required, which are all relevant considerations for determining complexity.\n",
      "\n",
      "The complexity rating of 0.7 aligns with the postgraduate level, which seems appropriate given the detailed legal knowledge and analytical skills required to answer the question correctly.\n",
      "\n",
      "Rating: 9\n",
      "\n"
     ]
    },
    {
     "name": "stderr",
     "output_type": "stream",
     "text": [
      " 86%|████████▌ | 10276/12018 [58:19<2:51:36,  5.91s/it]"
     ]
    },
    {
     "name": "stdout",
     "output_type": "stream",
     "text": [
      "Over 500 iterations we hit 0 API limits\n"
     ]
    },
    {
     "name": "stderr",
     "output_type": "stream",
     "text": [
      " 86%|████████▌ | 10326/12018 [1:04:18<3:02:16,  6.46s/it]"
     ]
    },
    {
     "name": "stdout",
     "output_type": "stream",
     "text": [
      "Over 550 iterations we hit 0 API limits\n"
     ]
    },
    {
     "name": "stderr",
     "output_type": "stream",
     "text": [
      " 86%|████████▌ | 10330/12018 [1:04:41<2:41:37,  5.74s/it]"
     ]
    },
    {
     "name": "stdout",
     "output_type": "stream",
     "text": [
      "Could not extract rating from response:\n",
      "The assistant's response provides a clear and concise explanation of the context and the knowledge required to answer the question. The question indeed falls under the domain of international maritime law and requires an understanding of jurisdiction principles, which are typically studied at the postgraduate level, especially for those specializing in international law or maritime law. The response correctly identifies that the question involves differentiating between the roles and jurisdictions of various states and international organizations, which is a complex task.\n",
      "\n",
      "Given the specificity and the advanced nature of the topic, the complexity rating is appropriate.\n",
      "\n",
      "Complexity: [[0.75]]\n",
      "\n"
     ]
    },
    {
     "name": "stderr",
     "output_type": "stream",
     "text": [
      " 86%|████████▋ | 10368/12018 [1:09:12<3:52:22,  8.45s/it]"
     ]
    },
    {
     "name": "stdout",
     "output_type": "stream",
     "text": [
      "Could not extract rating from response:\n",
      "The assistant's response provides a clear and concise explanation of the complexity of the question. The response highlights that the question involves understanding and applying Torricelli's principle, which is a concept in fluid dynamics and physics. It also mentions that solving the problem requires setting up and solving a differential equation, indicating the need for knowledge of calculus. This explanation is relevant and accurate, as it correctly identifies the key concepts and skills required to solve the problem. The response is helpful in giving a clear sense of the complexity of the question.\n",
      "\n",
      "Rating the complexity as [[0.55]] is appropriate given the scale provided. The question requires understanding of physics principles and the ability to apply calculus, which are typically covered at the undergraduate level.\n",
      "\n",
      "Complexity: [[0.55]]\n",
      "\n"
     ]
    },
    {
     "name": "stderr",
     "output_type": "stream",
     "text": [
      " 86%|████████▋ | 10371/12018 [1:09:34<3:36:43,  7.90s/it]"
     ]
    },
    {
     "name": "stdout",
     "output_type": "stream",
     "text": [
      "Could not extract rating from response:\n",
      "The assistant's response accurately assesses the complexity of the question. The question involves basic physics concepts, specifically displacement, which is typically introduced in high school physics courses. The student must calculate the total distance traveled by adding the distance driven in the truck and the distance walked. The question involves simple addition and understanding that displacement is the total distance from the starting point to the ending point. The assessment correctly places the complexity at the high school level.\n",
      "\n",
      "Complexity: [[0.3]]\n",
      "\n"
     ]
    },
    {
     "name": "stderr",
     "output_type": "stream",
     "text": [
      " 86%|████████▋ | 10376/12018 [1:10:12<3:29:03,  7.64s/it]"
     ]
    },
    {
     "name": "stdout",
     "output_type": "stream",
     "text": [
      "Over 600 iterations we hit 0 API limits\n"
     ]
    },
    {
     "name": "stderr",
     "output_type": "stream",
     "text": [
      " 87%|████████▋ | 10426/12018 [1:16:20<3:54:30,  8.84s/it]"
     ]
    },
    {
     "name": "stdout",
     "output_type": "stream",
     "text": [
      "Over 650 iterations we hit 0 API limits\n"
     ]
    },
    {
     "name": "stderr",
     "output_type": "stream",
     "text": [
      " 87%|████████▋ | 10470/12018 [1:21:16<2:19:17,  5.40s/it]"
     ]
    },
    {
     "name": "stdout",
     "output_type": "stream",
     "text": [
      "Could not extract rating from response:\n",
      "The assistant's response accurately assesses the complexity of the question. The question involves the application of the Einstein-Stokes equation, which requires knowledge of physical chemistry and biochemistry, typically covered in undergraduate or postgraduate levels. The calculations involve understanding the relationship between the diffusion coefficient, molecular radius, and molecular weight, which are advanced concepts.\n",
      "\n",
      "Complexity: [[0.65]]\n",
      "\n"
     ]
    },
    {
     "name": "stderr",
     "output_type": "stream",
     "text": [
      " 87%|████████▋ | 10476/12018 [1:21:58<3:05:25,  7.22s/it]"
     ]
    },
    {
     "name": "stdout",
     "output_type": "stream",
     "text": [
      "Over 700 iterations we hit 0 API limits\n"
     ]
    },
    {
     "name": "stderr",
     "output_type": "stream",
     "text": [
      " 88%|████████▊ | 10526/12018 [1:27:57<2:35:04,  6.24s/it]"
     ]
    },
    {
     "name": "stdout",
     "output_type": "stream",
     "text": [
      "Over 750 iterations we hit 0 API limits\n"
     ]
    },
    {
     "name": "stderr",
     "output_type": "stream",
     "text": [
      " 88%|████████▊ | 10564/12018 [1:32:39<3:33:35,  8.81s/it]"
     ]
    },
    {
     "name": "stdout",
     "output_type": "stream",
     "text": [
      "Could not extract rating from response:\n",
      "The assistant's response accurately assesses the complexity of the question. The question requires a deep understanding of political philosophy, specifically the theories of Thomas Hobbes and John Locke, which are typically studied at the undergraduate or postgraduate level. The response highlights that answering the question necessitates specific academic knowledge rather than general knowledge.\n",
      "\n",
      "Complexity: [[0.65]]\n",
      "\n"
     ]
    },
    {
     "name": "stderr",
     "output_type": "stream",
     "text": [
      " 88%|████████▊ | 10574/12018 [1:33:42<2:31:01,  6.28s/it]"
     ]
    },
    {
     "name": "stdout",
     "output_type": "stream",
     "text": [
      "Could not extract rating from response:\n",
      "The assistant's response provides a clear and concise explanation of the principles involved in the question, highlighting the need for a solid understanding of physics, specifically wave mechanics and acoustics. The response accurately identifies the complexity of the question, which involves understanding fundamental frequencies, overtones, and harmonics, as well as the differences between stopped and open pipes. This level of understanding is typically expected at the undergraduate level.\n",
      "\n",
      "Complexity: [[0.55]]\n",
      "\n"
     ]
    },
    {
     "name": "stderr",
     "output_type": "stream",
     "text": [
      " 88%|████████▊ | 10576/12018 [1:33:58<2:53:55,  7.24s/it]"
     ]
    },
    {
     "name": "stdout",
     "output_type": "stream",
     "text": [
      "Over 800 iterations we hit 0 API limits\n"
     ]
    },
    {
     "name": "stderr",
     "output_type": "stream",
     "text": [
      " 88%|████████▊ | 10597/12018 [1:36:41<2:48:09,  7.10s/it]"
     ]
    },
    {
     "name": "stdout",
     "output_type": "stream",
     "text": [
      "Could not extract complexity from response:\n",
      "This question involves understanding and applying the concepts of reflection and refraction of light, specifically dealing with unpolarized light, the Fresnel equations, and the index of refraction. To solve this question, one needs to:\n",
      "\n",
      "1. Understand the behavior of light when it hits a surface with a different refractive index.\n",
      "2. Apply the Fresnel equations to determine the reflectance for both s and p polarizations.\n",
      "3. Calculate the total reflectance for unpolarized light.\n",
      "4. Determine the ratio of the components of the E-vector in the reflected beam.\n",
      "\n",
      "The calculation requires knowledge of optics, specifically the behavior of light at interfaces, and the ability to apply mathematical formulas to determine the required values. This level of understanding and calculation is typically covered in undergraduate-level physics courses, specifically in optics or electromagnetism modules.\n",
      "\n",
      "Complexity: [[complexity]]\n",
      "\n",
      "Could not extract rating from response:\n",
      "The assistant's response provides a clear and concise explanation of the concepts and steps required to solve the given problem. The response highlights the need to understand the behavior of light at interfaces, apply the Fresnel equations, and perform calculations to determine reflectance and the ratio of E-vector components. This level of understanding is typically covered in undergraduate-level physics courses, making the question suitable for that academic level.\n",
      "\n",
      "Complexity: [[0.6]]\n",
      "\n"
     ]
    },
    {
     "name": "stderr",
     "output_type": "stream",
     "text": [
      " 88%|████████▊ | 10626/12018 [1:40:12<2:59:09,  7.72s/it]"
     ]
    },
    {
     "name": "stdout",
     "output_type": "stream",
     "text": [
      "Over 850 iterations we hit 0 API limits\n"
     ]
    },
    {
     "name": "stderr",
     "output_type": "stream",
     "text": [
      " 89%|████████▊ | 10640/12018 [1:41:48<2:27:15,  6.41s/it]"
     ]
    },
    {
     "name": "stdout",
     "output_type": "stream",
     "text": [
      "Could not extract rating from response:\n",
      "The explanation provided by the assistant is clear and concise, accurately describing the physical concepts and calculations required to solve the problem. The assistant correctly identifies that the question involves rotational kinematics and angular deceleration, and that the student must apply kinematic equations to find the solution. The explanation also notes the proximity of the options, highlighting the need for precise calculations.\n",
      "\n",
      "However, the complexity rating seems to be slightly underestimated. While the question does involve undergraduate-level physics, the specific topic of rotational kinematics and the application of angular deceleration might be more typically covered in advanced high school physics or early undergraduate courses. Given the need to understand and apply these concepts, the complexity might be better rated at the higher end of the undergraduate scale.\n",
      "\n",
      "Rating: [[0.55]]\n",
      "\n"
     ]
    },
    {
     "name": "stderr",
     "output_type": "stream",
     "text": [
      " 89%|████████▉ | 10676/12018 [1:46:17<2:32:48,  6.83s/it]"
     ]
    },
    {
     "name": "stdout",
     "output_type": "stream",
     "text": [
      "Over 900 iterations we hit 0 API limits\n"
     ]
    },
    {
     "name": "stderr",
     "output_type": "stream",
     "text": [
      " 89%|████████▉ | 10706/12018 [1:49:55<2:20:42,  6.43s/it]"
     ]
    },
    {
     "name": "stdout",
     "output_type": "stream",
     "text": [
      "Could not extract rating from response:\n",
      "The assistant's response provides a clear and concise evaluation of the question's complexity. The explanation highlights the need for specialized knowledge in philosophy, particularly familiarity with Peter Singer's work and the philosophies of the listed options. This level of knowledge and analytical comparison is typically expected at the postgraduate level.\n",
      "\n",
      "Complexity: [[0.7]]\n",
      "\n"
     ]
    },
    {
     "name": "stderr",
     "output_type": "stream",
     "text": [
      " 89%|████████▉ | 10707/12018 [1:50:00<2:09:57,  5.95s/it]"
     ]
    },
    {
     "name": "stdout",
     "output_type": "stream",
     "text": [
      "Could not extract complexity from response:\n",
      "This question is asking about the formal requirements for treaties, which falls under international law. To answer this question, one would need to have studied international law, specifically the Vienna Convention on the Law of Treaties (VCLT), which is typically covered in undergraduate law degrees or international relations degrees. The options provided require a nuanced understanding of the topic, including the distinction between the designation and form of a treaty, the role of ratification, and the significance of signatures by heads of state. Therefore, this question is not merely about recalling facts but applying and distinguishing legal concepts.\n",
      "\n",
      "Could not extract rating from response:\n",
      "The assistant's response provides a clear and concise explanation of the question's complexity. It accurately identifies the topic as international law and specifies the relevant legal framework, the Vienna Convention on the Law of Treaties (VCLT). The response highlights that the question requires a nuanced understanding of legal concepts, which is typically covered in undergraduate law or international relations degrees. This explanation is helpful, relevant, and accurate, as it directly addresses the factors that contribute to the question's complexity.\n",
      "\n",
      "Rating: [[0.5]]\n",
      "\n"
     ]
    },
    {
     "name": "stderr",
     "output_type": "stream",
     "text": [
      " 89%|████████▉ | 10726/12018 [1:52:19<3:26:25,  9.59s/it]"
     ]
    },
    {
     "name": "stdout",
     "output_type": "stream",
     "text": [
      "Over 950 iterations we hit 0 API limits\n"
     ]
    },
    {
     "name": "stderr",
     "output_type": "stream",
     "text": [
      " 90%|████████▉ | 10761/12018 [1:56:49<3:03:51,  8.78s/it]"
     ]
    },
    {
     "name": "stdout",
     "output_type": "stream",
     "text": [
      "Could not extract rating from response:\n",
      "The assistant's response provides a clear and concise explanation of the complexity of the question. The question indeed requires an understanding of ethical philosophies and specific viewpoints of theorists Kamm and Sandel, particularly their arguments about the moral distinctions between treatment and enhancement. This level of understanding typically aligns with postgraduate-level studies in philosophy or bioethics, where students are expected to engage with nuanced debates and philosophical reasoning.\n",
      "\n",
      "Complexity: [[0.75]]\n",
      "\n"
     ]
    },
    {
     "name": "stderr",
     "output_type": "stream",
     "text": [
      " 90%|████████▉ | 10776/12018 [1:58:32<2:35:14,  7.50s/it]"
     ]
    },
    {
     "name": "stdout",
     "output_type": "stream",
     "text": [
      "Over 1000 iterations we hit 0 API limits\n"
     ]
    },
    {
     "name": "stderr",
     "output_type": "stream",
     "text": [
      " 90%|████████▉ | 10801/12018 [2:01:30<2:53:14,  8.54s/it]"
     ]
    },
    {
     "name": "stdout",
     "output_type": "stream",
     "text": [
      "Could not extract rating from response:\n",
      "The assistant's response provides a clear and concise explanation of the question's complexity. It accurately identifies that the question requires an understanding of U.S. constitutional law and the application of constitutional provisions to a specific scenario. The response highlights that the question involves analyzing the actions of a city council and a utility company within the framework of constitutional rights, and it assumes knowledge of various constitutional clauses. This analysis is relevant and accurate, as the question indeed requires a detailed understanding of constitutional law to determine the strongest grounds for a challenge.\n",
      "\n",
      "Complexity: [[0.65]]\n",
      "\n"
     ]
    },
    {
     "name": "stderr",
     "output_type": "stream",
     "text": [
      " 90%|█████████ | 10826/12018 [2:04:29<2:14:55,  6.79s/it]"
     ]
    },
    {
     "name": "stdout",
     "output_type": "stream",
     "text": [
      "Over 1050 iterations we hit 0 API limits\n"
     ]
    },
    {
     "name": "stderr",
     "output_type": "stream",
     "text": [
      " 90%|█████████ | 10876/12018 [2:10:27<2:03:50,  6.51s/it]"
     ]
    },
    {
     "name": "stdout",
     "output_type": "stream",
     "text": [
      "Over 1100 iterations we hit 0 API limits\n"
     ]
    },
    {
     "name": "stderr",
     "output_type": "stream",
     "text": [
      " 91%|█████████ | 10902/12018 [2:13:46<2:26:06,  7.86s/it]"
     ]
    },
    {
     "name": "stdout",
     "output_type": "stream",
     "text": [
      "Could not extract rating from response:\n",
      "The response provided by the AI assistant is generally well-reasoned and corresponds to the context of the user's request. The assistant correctly identifies that the question involves understanding wave mechanics, material properties, and the interplay between theoretical calculations and physical realizability. The explanation highlights the need to know specific formulas and consider conceptual understanding, which is relevant and accurate.\n",
      "\n",
      "However, the complexity rating of [[0.75]] seems a bit high for the question at hand. While the question does require a good understanding of wave mechanics and material properties, it does not delve into highly specialized or advanced topics that would typically be associated with postgraduate or PhD-level work. Instead, it is more aligned with undergraduate-level physics, which would place it around the 0.4-0.6 range.\n",
      "\n",
      "Rating the complexity of the question: [[0.55]]\n",
      "\n"
     ]
    },
    {
     "name": "stderr",
     "output_type": "stream",
     "text": [
      " 91%|█████████ | 10926/12018 [2:16:46<1:59:42,  6.58s/it]"
     ]
    },
    {
     "name": "stdout",
     "output_type": "stream",
     "text": [
      "Over 1150 iterations we hit 0 API limits\n"
     ]
    },
    {
     "name": "stderr",
     "output_type": "stream",
     "text": [
      " 91%|█████████ | 10929/12018 [2:17:02<1:45:43,  5.83s/it]"
     ]
    },
    {
     "name": "stdout",
     "output_type": "stream",
     "text": [
      "Could not extract rating from response:\n",
      "The assistant's response provides a clear and concise explanation of the knowledge and skills required to solve the given chemical equilibrium problem. The response highlights the need to understand chemical equilibrium concepts, set up an ICE table, and perform algebraic calculations involving exponents. The mention of the high temperature scenario adds a layer of complexity, suggesting that the problem might be suited for undergraduate-level students who have a solid foundation in these concepts.\n",
      "\n",
      "Complexity: [[0.50]]\n",
      "\n"
     ]
    },
    {
     "name": "stderr",
     "output_type": "stream",
     "text": [
      " 91%|█████████▏| 10976/12018 [2:22:48<1:48:51,  6.27s/it]"
     ]
    },
    {
     "name": "stdout",
     "output_type": "stream",
     "text": [
      "Over 1200 iterations we hit 0 API limits\n"
     ]
    },
    {
     "name": "stderr",
     "output_type": "stream",
     "text": [
      " 91%|█████████▏| 10982/12018 [2:23:32<2:05:03,  7.24s/it]"
     ]
    },
    {
     "name": "stdout",
     "output_type": "stream",
     "text": [
      "Could not extract rating from response:\n",
      "The assistant's response provides a clear and concise explanation of the knowledge required to answer the question. The question indeed tests the understanding of subatomic particles and their properties, which is typically covered in undergraduate-level physics courses. The assistant objectively assessed the complexity of the question without providing the answer, adhering to the instructions given.\n",
      "\n",
      "Complexity: [[0.5]]\n",
      "\n"
     ]
    },
    {
     "name": "stderr",
     "output_type": "stream",
     "text": [
      " 92%|█████████▏| 11026/12018 [2:29:03<1:59:51,  7.25s/it]"
     ]
    },
    {
     "name": "stdout",
     "output_type": "stream",
     "text": [
      "Over 1250 iterations we hit 0 API limits\n"
     ]
    },
    {
     "name": "stderr",
     "output_type": "stream",
     "text": [
      " 92%|█████████▏| 11076/12018 [2:34:43<1:38:01,  6.24s/it]"
     ]
    },
    {
     "name": "stdout",
     "output_type": "stream",
     "text": [
      "Over 1300 iterations we hit 0 API limits\n"
     ]
    },
    {
     "name": "stderr",
     "output_type": "stream",
     "text": [
      " 93%|█████████▎| 11126/12018 [2:40:45<1:47:52,  7.26s/it]"
     ]
    },
    {
     "name": "stdout",
     "output_type": "stream",
     "text": [
      "Over 1350 iterations we hit 0 API limits\n"
     ]
    },
    {
     "name": "stderr",
     "output_type": "stream",
     "text": [
      " 93%|█████████▎| 11176/12018 [2:46:38<1:40:57,  7.19s/it]"
     ]
    },
    {
     "name": "stdout",
     "output_type": "stream",
     "text": [
      "Over 1400 iterations we hit 0 API limits\n"
     ]
    },
    {
     "name": "stderr",
     "output_type": "stream",
     "text": [
      " 93%|█████████▎| 11186/12018 [2:47:46<1:45:13,  7.59s/it]"
     ]
    },
    {
     "name": "stdout",
     "output_type": "stream",
     "text": [
      "Could not extract rating from response:\n",
      "The assistant's response provides a clear and concise explanation of the knowledge required to answer the question. The question indeed delves into the nutritional content of various food groups and their amino acid profiles, which are topics typically covered in undergraduate-level nutrition courses. The response accurately reflects the complexity of the question without providing the actual answer, adhering to the instructions given.\n",
      "\n",
      "Complexity: [[0.55]]\n",
      "\n"
     ]
    },
    {
     "name": "stderr",
     "output_type": "stream",
     "text": [
      " 93%|█████████▎| 11190/12018 [2:48:10<1:30:14,  6.54s/it]"
     ]
    },
    {
     "name": "stdout",
     "output_type": "stream",
     "text": [
      "Could not extract rating from response:\n",
      "The assistant's response accurately assesses the complexity of the question. The question requires an understanding of special relativity, including the Lorentz factor, relativistic mass, and kinetic energy calculations. These concepts are typically covered in advanced undergraduate or postgraduate physics courses, which aligns with the complexity rating provided.\n",
      "\n",
      "Complexity: [[0.7]]\n",
      "\n"
     ]
    },
    {
     "name": "stderr",
     "output_type": "stream",
     "text": [
      " 93%|█████████▎| 11192/12018 [2:48:26<1:43:18,  7.50s/it]"
     ]
    },
    {
     "name": "stdout",
     "output_type": "stream",
     "text": [
      "Could not extract rating from response:\n",
      "The assistant's response provides a clear and concise explanation of the steps required to solve the problem, highlighting the need to understand buoyancy, net force, and Newton's second law of motion. The explanation correctly identifies the key concepts and calculations involved, including unit conversions and algebraic manipulation. This indicates that the question is suited for an undergraduate level of complexity.\n",
      "\n",
      "Complexity: [[0.45]]\n",
      "\n"
     ]
    },
    {
     "name": "stderr",
     "output_type": "stream",
     "text": [
      " 93%|█████████▎| 11222/12018 [2:51:42<1:40:11,  7.55s/it]"
     ]
    },
    {
     "name": "stdout",
     "output_type": "stream",
     "text": [
      "Could not extract complexity from response:\n",
      "This question requires an understanding of genetic regulation, specifically the lac operon in E. coli, which is typically covered in undergraduate-level biology or molecular biology courses. The question assumes knowledge of the lac operon's components and their roles, including the repressor, lactose, and glucose. The question also requires critical thinking to apply knowledge of the lac operon to a mutation scenario. The options provided are detailed and require a solid understanding of the topic to evaluate.\n",
      "\n",
      "Complexity:\n",
      "\n"
     ]
    },
    {
     "name": "stderr",
     "output_type": "stream",
     "text": [
      " 93%|█████████▎| 11226/12018 [2:52:13<1:48:51,  8.25s/it]"
     ]
    },
    {
     "name": "stdout",
     "output_type": "stream",
     "text": [
      "Over 1450 iterations we hit 0 API limits\n"
     ]
    },
    {
     "name": "stderr",
     "output_type": "stream",
     "text": [
      " 94%|█████████▎| 11251/12018 [2:55:24<1:30:27,  7.08s/it]"
     ]
    },
    {
     "name": "stdout",
     "output_type": "stream",
     "text": [
      "Could not extract rating from response:\n",
      "The assistant's response provides a clear and concise explanation of the knowledge required to answer the question. The question indeed involves understanding biochemistry, specifically the biosynthesis of eicosanoids and the classification of fatty acids. This topic is typically covered in undergraduate-level biochemistry courses, making the complexity rating of 0.55 appropriate.\n",
      "\n",
      "Complexity: [[0.55]]\n",
      "\n"
     ]
    },
    {
     "name": "stderr",
     "output_type": "stream",
     "text": [
      " 94%|█████████▍| 11272/12018 [2:57:46<1:35:46,  7.70s/it]"
     ]
    },
    {
     "name": "stdout",
     "output_type": "stream",
     "text": [
      "Could not extract complexity from response:\n",
      "The question asks for an understanding of Ashford's argument regarding dependency on aid agencies among those in extreme poverty. The options are not overly complex. Although the question does require some critical thinking and understanding of philosophical and political arguments, which might be more typical of undergraduate-level courses.\n",
      "\n",
      "Could not extract rating from response:\n",
      "The assistant's response provides a clear and concise explanation of the question's complexity. It acknowledges that the question requires an understanding of philosophical and political arguments, which is typically expected at the undergraduate level. The response is helpful, relevant, and accurate in its assessment.\n",
      "\n",
      "Complexity: [[0.5]]\n",
      "\n"
     ]
    },
    {
     "name": "stderr",
     "output_type": "stream",
     "text": [
      " 94%|█████████▍| 11276/12018 [2:58:14<1:39:22,  8.04s/it]"
     ]
    },
    {
     "name": "stdout",
     "output_type": "stream",
     "text": [
      "Over 1500 iterations we hit 0 API limits\n"
     ]
    },
    {
     "name": "stderr",
     "output_type": "stream",
     "text": [
      " 94%|█████████▍| 11305/12018 [3:01:42<1:28:57,  7.49s/it]"
     ]
    },
    {
     "name": "stdout",
     "output_type": "stream",
     "text": [
      "Could not extract rating from response:\n",
      "The assistant's response provides a clear and concise evaluation of the question's complexity. The explanation highlights the necessary understanding of physics concepts related to sound waves and echoes, as well as the ability to perform a simple calculation using the given speed of sound and time delay. This assessment aligns well with the high school level, where students typically learn about waves and basic physics calculations.\n",
      "\n",
      "Complexity: [[0.35]]\n",
      "\n"
     ]
    },
    {
     "name": "stderr",
     "output_type": "stream",
     "text": [
      " 94%|█████████▍| 11326/12018 [3:04:10<1:41:42,  8.82s/it]"
     ]
    },
    {
     "name": "stdout",
     "output_type": "stream",
     "text": [
      "Over 1550 iterations we hit 0 API limits\n"
     ]
    },
    {
     "name": "stderr",
     "output_type": "stream",
     "text": [
      " 95%|█████████▍| 11375/12018 [3:10:03<1:20:06,  7.47s/it]"
     ]
    },
    {
     "name": "stdout",
     "output_type": "stream",
     "text": [
      "Could not extract rating from response:\n",
      "The assistant's response provides a clear and concise explanation of the knowledge required to answer the question. The question indeed requires a specific understanding of molecular genetics and thalassemia mutations, which is typically covered at the undergraduate level in subjects like genetics or molecular biology. The assistant objectively assessed the complexity of the question without providing the answer, adhering to the instructions given.\n",
      "\n",
      "Complexity: [[0.55]]\n",
      "\n"
     ]
    },
    {
     "name": "stderr",
     "output_type": "stream",
     "text": [
      " 95%|█████████▍| 11376/12018 [3:10:07<1:10:04,  6.55s/it]"
     ]
    },
    {
     "name": "stdout",
     "output_type": "stream",
     "text": [
      "Over 1600 iterations we hit 0 API limits\n"
     ]
    },
    {
     "name": "stderr",
     "output_type": "stream",
     "text": [
      " 95%|█████████▍| 11410/12018 [3:14:04<1:01:15,  6.05s/it]"
     ]
    },
    {
     "name": "stdout",
     "output_type": "stream",
     "text": [
      "Could not extract rating from response:\n",
      "The assistant's response provides a clear and concise explanation of the principles involved in solving the problem. The question requires an understanding of the uncertainty principle, which is typically covered in undergraduate-level physics courses. The response accurately identifies the key concepts and the mathematical operations needed to solve the problem, which aligns well with the undergraduate level of complexity.\n",
      "\n",
      "Complexity: [[0.55]]\n",
      "\n"
     ]
    },
    {
     "name": "stderr",
     "output_type": "stream",
     "text": [
      " 95%|█████████▌| 11426/12018 [3:15:45<1:00:20,  6.12s/it]"
     ]
    },
    {
     "name": "stdout",
     "output_type": "stream",
     "text": [
      "Over 1650 iterations we hit 0 API limits\n"
     ]
    },
    {
     "name": "stderr",
     "output_type": "stream",
     "text": [
      " 95%|█████████▌| 11457/12018 [3:19:17<56:54,  6.09s/it]  "
     ]
    },
    {
     "name": "stdout",
     "output_type": "stream",
     "text": [
      "Could not extract rating from response:\n",
      "The assistant's response provides a clear and concise explanation of the knowledge required to solve the problem, specifically mentioning Snell's Law and the need to apply it using given values. This indicates that the question is likely suited for undergraduate students who have studied optics. The explanation is helpful, relevant, and accurate in the context of the question.\n",
      "\n",
      "Complexity: [[0.45]]\n",
      "\n"
     ]
    },
    {
     "name": "stderr",
     "output_type": "stream",
     "text": [
      " 95%|█████████▌| 11476/12018 [3:21:41<1:14:42,  8.27s/it]"
     ]
    },
    {
     "name": "stdout",
     "output_type": "stream",
     "text": [
      "Over 1700 iterations we hit 0 API limits\n"
     ]
    },
    {
     "name": "stderr",
     "output_type": "stream",
     "text": [
      " 96%|█████████▌| 11493/12018 [3:24:24<59:47,  6.83s/it]  "
     ]
    },
    {
     "name": "stdout",
     "output_type": "stream",
     "text": [
      "Could not extract rating from response:\n",
      "The assistant's response provides a clear and concise explanation of the question's complexity. It accurately identifies that the question requires an understanding of philosophical terminology and the specific work of R.M. Hare, a prominent moral philosopher. The response highlights the need to distinguish between subtle differences in meaning among the options provided, which is a characteristic of more advanced levels of study.\n",
      "\n",
      "The complexity rating of 0.7 is appropriate, as it corresponds to the postgraduate level, reflecting the specialized knowledge and critical thinking required to answer the question.\n",
      "\n",
      "Complexity: [[0.7]]\n",
      "\n"
     ]
    },
    {
     "name": "stderr",
     "output_type": "stream",
     "text": [
      " 96%|█████████▌| 11507/12018 [3:26:09<1:17:45,  9.13s/it]"
     ]
    },
    {
     "name": "stdout",
     "output_type": "stream",
     "text": [
      "Could not extract rating from response:\n",
      "The assistant's response provides a clear and concise explanation of the question's context and the knowledge required to solve it. The question involves understanding genetic inheritance patterns, specifically X-linked recessive conditions, and applying the Hardy-Weinberg principle. This level of knowledge is typically covered in undergraduate genetics courses, making the complexity rating appropriate.\n",
      "\n",
      "Complexity: [[0.55]]\n",
      "\n"
     ]
    },
    {
     "name": "stderr",
     "output_type": "stream",
     "text": [
      " 96%|█████████▌| 11521/12018 [3:27:49<57:27,  6.94s/it]  "
     ]
    },
    {
     "name": "stdout",
     "output_type": "stream",
     "text": [
      "Could not extract rating from response:\n",
      "This evaluation focuses on the complexity of the multiple-choice question provided. The question involves the application of the Clausius-Clapeyron equation, which is a fundamental concept in physical chemistry, typically covered in undergraduate-level courses. The problem requires understanding phase equilibria, the effect of pressure on phase transitions, and the ability to apply these concepts using given data on densities and molar entropies. Additionally, it involves unit conversions and substitution into the formula to find the new equilibrium temperature.\n",
      "\n",
      "Complexity: [[0.55]]\n",
      "\n"
     ]
    },
    {
     "name": "stderr",
     "output_type": "stream",
     "text": [
      " 96%|█████████▌| 11526/12018 [3:28:53<1:20:42,  9.84s/it]"
     ]
    },
    {
     "name": "stdout",
     "output_type": "stream",
     "text": [
      "Over 1750 iterations we hit 0 API limits\n",
      "Could not extract rating from response:\n",
      "The assistant's response provides a clear and concise explanation of the principles required to solve the problem. The question involves understanding and applying the principle of conservation of mechanical energy, specifically in the context of gravitational potential energy. This level of understanding is typically expected at the postgraduate level, where students have a solid foundation in physics and can apply these principles to complex scenarios.\n",
      "\n",
      "The assistant correctly identifies the need to convert initial kinetic energy into gravitational potential energy and the use of relevant formulas, which aligns with the complexity of postgraduate-level physics problems.\n",
      "\n",
      "Complexity: [[0.75]]\n",
      "\n"
     ]
    },
    {
     "name": "stderr",
     "output_type": "stream",
     "text": [
      " 96%|█████████▋| 11576/12018 [3:34:59<1:11:24,  9.69s/it]"
     ]
    },
    {
     "name": "stdout",
     "output_type": "stream",
     "text": [
      "Over 1800 iterations we hit 0 API limits\n"
     ]
    },
    {
     "name": "stderr",
     "output_type": "stream",
     "text": [
      " 97%|█████████▋| 11606/12018 [3:38:43<51:58,  7.57s/it]  "
     ]
    },
    {
     "name": "stdout",
     "output_type": "stream",
     "text": [
      "Could not extract rating from response:\n",
      "The assistant's response provides a clear and concise explanation of the principles and calculations required to solve the problem. The question involves applying Archimedes' principle to determine the weight of one truck based on the displacement of water, which is a concept typically covered in undergraduate-level physics courses. The response accurately identifies the complexity of the question by considering the necessary calculations and the underlying physical principles.\n",
      "\n",
      "Complexity: [[0.55]]\n",
      "\n"
     ]
    },
    {
     "name": "stderr",
     "output_type": "stream",
     "text": [
      " 97%|█████████▋| 11615/12018 [3:39:54<51:03,  7.60s/it]"
     ]
    },
    {
     "name": "stdout",
     "output_type": "stream",
     "text": [
      "Could not extract rating from response:\n",
      "The assistant's response accurately assesses the complexity of the question. The question involves calculating the relative intensities of secondary maxima in a single-slit Fraunhofer diffraction pattern, which requires a solid understanding of physical optics and the mathematical tools used to describe diffraction patterns. This topic is typically covered in undergraduate-level physics courses, making it appropriate for students at that level.\n",
      "\n",
      "The assistant correctly identifies that solving this problem requires familiarity with mathematical descriptions such as Bessel functions or sinc functions, which are advanced concepts usually introduced in undergraduate physics curricula.\n",
      "\n",
      "Complexity: [[0.55]]\n",
      "\n"
     ]
    },
    {
     "name": "stderr",
     "output_type": "stream",
     "text": [
      " 97%|█████████▋| 11626/12018 [3:41:22<55:25,  8.48s/it]  "
     ]
    },
    {
     "name": "stdout",
     "output_type": "stream",
     "text": [
      "Over 1850 iterations we hit 0 API limits\n"
     ]
    },
    {
     "name": "stderr",
     "output_type": "stream",
     "text": [
      " 97%|█████████▋| 11639/12018 [3:42:48<39:27,  6.25s/it]"
     ]
    },
    {
     "name": "stdout",
     "output_type": "stream",
     "text": [
      "Could not extract rating from response:\n",
      "The assistant's response provides a clear and concise explanation of the principles behind the question, noting that it involves understanding the relationship between photon energy and wavelength in the electromagnetic spectrum. The response correctly identifies that this concept is typically introduced in high school physics but is also fundamental to undergraduate studies in physics and chemistry. The explanation is relevant, accurate, and helpful in understanding the context and complexity of the question without directly answering it.\n",
      "\n",
      "Complexity: [[0.45]]\n",
      "\n"
     ]
    },
    {
     "name": "stderr",
     "output_type": "stream",
     "text": [
      " 97%|█████████▋| 11647/12018 [3:43:42<44:53,  7.26s/it]"
     ]
    },
    {
     "name": "stdout",
     "output_type": "stream",
     "text": [
      "Could not extract rating from response:\n",
      "The assistant's response provides a clear and concise explanation of the question's context and the underlying principles it assesses. The response highlights that the question requires an understanding of Newton's laws of motion and the law of universal gravitation, which are typically covered in undergraduate-level physics courses. The explanation is relevant, accurate, and helpful in understanding the complexity of the question.\n",
      "\n",
      "Rating the complexity of the question on a scale from 0 to 1, the assistant's evaluation of [[0.55]] is appropriate, as the question aligns with undergraduate-level physics concepts.\n",
      "\n",
      "Complexity: [[0.55]]\n",
      "\n"
     ]
    },
    {
     "name": "stderr",
     "output_type": "stream",
     "text": [
      " 97%|█████████▋| 11668/12018 [3:46:13<49:33,  8.50s/it]"
     ]
    },
    {
     "name": "stdout",
     "output_type": "stream",
     "text": [
      "Could not extract rating from response:\n",
      "The assistant's response provides a clear and concise explanation of the concepts required to solve the problem. The question involves understanding chemical equilibrium, the dissociation of $\\mathrm{N}_2 \\mathrm{O}_4$ into $\\mathrm{NO}_2$, and the application of chemical thermodynamics principles, including the equilibrium constant and the van't Hoff equation. Additionally, the question asks for a prediction of the behavior of the degree of dissociation with an increase in temperature, which involves understanding the effect of temperature on chemical equilibrium. This level of understanding is typically expected at the undergraduate level.\n",
      "\n",
      "The assistant correctly identifies the complexity of the question as [[0.55]], which corresponds to the undergraduate level. This rating is appropriate given the concepts and principles involved in solving the problem.\n",
      "\n"
     ]
    },
    {
     "name": "stderr",
     "output_type": "stream",
     "text": [
      " 97%|█████████▋| 11669/12018 [3:46:20<46:35,  8.01s/it]"
     ]
    },
    {
     "name": "stdout",
     "output_type": "stream",
     "text": [
      "Could not extract rating from response:\n",
      "The assistant's response provides a clear and concise explanation of the complexity of the question. The response highlights that the question involves understanding chemical kinetics and applying the rate constant to determine the time for the pressure to reach a certain value. This requires setting up and solving a differential equation based on the rate law, which is typically covered in undergraduate-level chemical kinetics courses. The explanation is relevant, accurate, and helpful in understanding the complexity of the question.\n",
      "\n",
      "Complexity: [[0.5]]\n",
      "\n"
     ]
    },
    {
     "name": "stderr",
     "output_type": "stream",
     "text": [
      " 97%|█████████▋| 11672/12018 [3:46:39<40:11,  6.97s/it]"
     ]
    },
    {
     "name": "stdout",
     "output_type": "stream",
     "text": [
      "Could not extract rating from response:\n",
      "The assistant's response accurately assesses the complexity of the question. The problem involves understanding and applying principles of rocket propulsion, including the rocket equation, which requires knowledge of calculus and physics. This level of understanding is typically expected at the postgraduate level.\n",
      "\n",
      "Complexity: [[0.7]]\n",
      "\n"
     ]
    },
    {
     "name": "stderr",
     "output_type": "stream",
     "text": [
      " 97%|█████████▋| 11676/12018 [3:47:07<42:45,  7.50s/it]"
     ]
    },
    {
     "name": "stdout",
     "output_type": "stream",
     "text": [
      "Over 1900 iterations we hit 0 API limits\n"
     ]
    },
    {
     "name": "stderr",
     "output_type": "stream",
     "text": [
      " 97%|█████████▋| 11679/12018 [3:47:36<50:46,  8.99s/it]"
     ]
    },
    {
     "name": "stdout",
     "output_type": "stream",
     "text": [
      "Could not extract rating from response:\n",
      "The assistant's response provides a clear and concise explanation for their evaluation of the question's complexity. They accurately identify that the question requires an understanding of economics, specifically the concepts of supply and demand curves, loanable funds, and interest rates. The response also correctly notes that this topic is typically covered in undergraduate economics courses, which aligns with the given complexity scale. The assistant objectively assesses the question's complexity without providing an answer.\n",
      "\n",
      "Complexity: [[0.55]]\n",
      "\n"
     ]
    },
    {
     "name": "stderr",
     "output_type": "stream",
     "text": [
      " 97%|█████████▋| 11690/12018 [3:48:45<33:00,  6.04s/it]"
     ]
    },
    {
     "name": "stdout",
     "output_type": "stream",
     "text": [
      "Could not extract rating from response:\n",
      "The assistant's response effectively evaluates the complexity of the multiple-choice question by considering the economic principles involved and the distinction between normative and positive statements. The explanation is clear and objective, highlighting the required knowledge of economic terminology and the ability to differentiate between factual and value-based statements. The complexity rating of [[0.35]] is appropriate, placing the question at the high school level, which aligns with the level of economic understanding typically expected at that stage.\n",
      "\n",
      "Complexity: [[0.35]]\n",
      "\n"
     ]
    },
    {
     "name": "stderr",
     "output_type": "stream",
     "text": [
      " 98%|█████████▊| 11723/12018 [3:52:49<36:49,  7.49s/it]"
     ]
    },
    {
     "name": "stdout",
     "output_type": "stream",
     "text": [
      "Could not extract rating from response:\n",
      "The assistant's response provides a clear and concise explanation of the question's context, highlighting the need for basic astronomical knowledge to determine the correct answer. The question involves understanding the concepts of eclipses and the alignment of celestial bodies, which is typically covered in high school science curricula. The options include both relevant and irrelevant terms, requiring the respondent to distinguish between them based on their knowledge of astronomy.\n",
      "\n",
      "Complexity: [[0.3]]\n",
      "\n"
     ]
    },
    {
     "name": "stderr",
     "output_type": "stream",
     "text": [
      " 98%|█████████▊| 11726/12018 [3:53:07<32:17,  6.63s/it]"
     ]
    },
    {
     "name": "stdout",
     "output_type": "stream",
     "text": [
      "Over 1950 iterations we hit 0 API limits\n"
     ]
    },
    {
     "name": "stderr",
     "output_type": "stream",
     "text": [
      " 98%|█████████▊| 11776/12018 [3:59:04<28:13,  7.00s/it]"
     ]
    },
    {
     "name": "stdout",
     "output_type": "stream",
     "text": [
      "Over 2000 iterations we hit 0 API limits\n"
     ]
    },
    {
     "name": "stderr",
     "output_type": "stream",
     "text": [
      " 98%|█████████▊| 11826/12018 [4:04:34<20:00,  6.25s/it]"
     ]
    },
    {
     "name": "stdout",
     "output_type": "stream",
     "text": [
      "Over 2050 iterations we hit 0 API limits\n"
     ]
    },
    {
     "name": "stderr",
     "output_type": "stream",
     "text": [
      " 99%|█████████▊| 11859/12018 [4:08:31<19:02,  7.18s/it]"
     ]
    },
    {
     "name": "stdout",
     "output_type": "stream",
     "text": [
      "Could not extract rating from response:\n",
      "The assistant's response provides a clear and concise explanation of the complexity of the question. The response correctly identifies that the question deals with political economics and ideology, and that it requires critical thinking and analysis to understand the role of freedom of choice within the capitalist framework. This evaluation is objective and relevant to the context of the question.\n",
      "\n",
      "However, the assistant's complexity rating of 0.55 is incorrect and does not align with the explanation provided. The question does not require undergraduate-level knowledge but rather a basic understanding of political ideologies and economic systems, which is typically covered in high school social studies or civics courses.\n",
      "\n",
      "Given the topic and the level of critical thinking required, the complexity rating should be:\n",
      "\n",
      "Complexity: [[0.35]]\n",
      "\n"
     ]
    },
    {
     "name": "stderr",
     "output_type": "stream",
     "text": [
      " 99%|█████████▉| 11876/12018 [4:10:34<18:18,  7.74s/it]"
     ]
    },
    {
     "name": "stdout",
     "output_type": "stream",
     "text": [
      "Over 2100 iterations we hit 0 API limits\n"
     ]
    },
    {
     "name": "stderr",
     "output_type": "stream",
     "text": [
      " 99%|█████████▉| 11925/12018 [4:16:29<11:25,  7.37s/it]"
     ]
    },
    {
     "name": "stdout",
     "output_type": "stream",
     "text": [
      "Could not extract rating from response:\n",
      "The assistant's response accurately assesses the complexity of the question. The question involves applying the Stefan-Boltzmann law, which relates the energy radiated by a blackbody to its absolute temperature. Understanding and applying this law typically requires knowledge of physics principles covered in undergraduate-level courses. The explanation provided by the assistant is clear and relevant to the context of the question.\n",
      "\n",
      "Complexity: [[0.55]]\n",
      "\n"
     ]
    },
    {
     "name": "stderr",
     "output_type": "stream",
     "text": [
      " 99%|█████████▉| 11926/12018 [4:16:35<10:28,  6.83s/it]"
     ]
    },
    {
     "name": "stdout",
     "output_type": "stream",
     "text": [
      "Over 2150 iterations we hit 0 API limits\n"
     ]
    },
    {
     "name": "stderr",
     "output_type": "stream",
     "text": [
      " 99%|█████████▉| 11930/12018 [4:17:08<11:45,  8.02s/it]"
     ]
    },
    {
     "name": "stdout",
     "output_type": "stream",
     "text": [
      "Could not extract rating from response:\n",
      "The assistant's response provides a clear and concise explanation of the context and the knowledge required to address the question. The question deals with the motion of a charged particle in a magnetic field, specifically within a solenoid, which is a topic typically covered in undergraduate-level physics courses. The response correctly identifies that understanding the Lorentz force and the geometry of the magnetic field inside a solenoid is crucial for answering the question. This aligns well with the complexity scale provided, placing it in the undergraduate category.\n",
      "\n",
      "Complexity: [[0.55]]\n",
      "\n"
     ]
    },
    {
     "name": "stderr",
     "output_type": "stream",
     "text": [
      "100%|█████████▉| 11976/12018 [4:22:50<04:57,  7.07s/it]"
     ]
    },
    {
     "name": "stdout",
     "output_type": "stream",
     "text": [
      "Over 2200 iterations we hit 0 API limits\n"
     ]
    },
    {
     "name": "stderr",
     "output_type": "stream",
     "text": [
      "100%|█████████▉| 11997/12018 [4:25:26<02:03,  5.89s/it]"
     ]
    },
    {
     "name": "stdout",
     "output_type": "stream",
     "text": [
      "Could not extract rating from response:\n",
      "The assistant's response provides a clear and concise explanation of the economic principles and mathematical calculations required to solve the problem. The response correctly identifies that the question involves understanding marginal product, total revenue, and total cost to determine profit maximization. This level of understanding is typically expected at the undergraduate level, where students are introduced to more complex economic concepts and applications.\n",
      "\n",
      "Complexity: [[0.55]]\n",
      "\n"
     ]
    },
    {
     "name": "stderr",
     "output_type": "stream",
     "text": [
      "100%|██████████| 12018/12018 [4:28:11<00:00,  1.34s/it]"
     ]
    },
    {
     "name": "stdout",
     "output_type": "stream",
     "text": [
      "Processed dataset ../data/mmlu_pro_stem_w_numerical_maj_w_entropyphi4.tsv. Total entries: 12018. Invalid complexities: 5. Invalid ratings: 57\n"
     ]
    },
    {
     "name": "stderr",
     "output_type": "stream",
     "text": [
      "\n"
     ]
    },
    {
     "data": {
      "text/html": [
       "<div>\n",
       "<style scoped>\n",
       "    .dataframe tbody tr th:only-of-type {\n",
       "        vertical-align: middle;\n",
       "    }\n",
       "\n",
       "    .dataframe tbody tr th {\n",
       "        vertical-align: top;\n",
       "    }\n",
       "\n",
       "    .dataframe thead th {\n",
       "        text-align: right;\n",
       "    }\n",
       "</style>\n",
       "<table border=\"1\" class=\"dataframe\">\n",
       "  <thead>\n",
       "    <tr style=\"text-align: right;\">\n",
       "      <th></th>\n",
       "      <th>src</th>\n",
       "      <th>answer</th>\n",
       "      <th>options</th>\n",
       "      <th>category</th>\n",
       "      <th>question</th>\n",
       "      <th>question_id</th>\n",
       "      <th>answer_index</th>\n",
       "      <th>total_tokens</th>\n",
       "      <th>meta_cluster</th>\n",
       "      <th>base_cluster</th>\n",
       "      <th>masj_complexity</th>\n",
       "      <th>masj_rating</th>\n",
       "      <th>entropy_ans_correct_phi3</th>\n",
       "      <th>entropy_value_phi3</th>\n",
       "      <th>masj_num_complexity</th>\n",
       "      <th>masj_num_rating</th>\n",
       "    </tr>\n",
       "  </thead>\n",
       "  <tbody>\n",
       "    <tr>\n",
       "      <th>0</th>\n",
       "      <td>ori_mmlu-jurisprudence</td>\n",
       "      <td>C</td>\n",
       "      <td>['There is no distinction between the two form...</td>\n",
       "      <td>law</td>\n",
       "      <td>Which of the following criticisms of Llewellyn...</td>\n",
       "      <td>1286</td>\n",
       "      <td>2</td>\n",
       "      <td>81</td>\n",
       "      <td>Legal Interpretation</td>\n",
       "      <td>Legal Theory Interpretations</td>\n",
       "      <td>postgraduate</td>\n",
       "      <td>9</td>\n",
       "      <td>True</td>\n",
       "      <td>0.165084</td>\n",
       "      <td>0.70</td>\n",
       "      <td>10</td>\n",
       "    </tr>\n",
       "    <tr>\n",
       "      <th>1</th>\n",
       "      <td>ori_mmlu-international_law</td>\n",
       "      <td>E</td>\n",
       "      <td>['Article 19', 'Article 11', 'Article 12', 'Ar...</td>\n",
       "      <td>law</td>\n",
       "      <td>Which of the following articles are not qualif...</td>\n",
       "      <td>1293</td>\n",
       "      <td>4</td>\n",
       "      <td>38</td>\n",
       "      <td>Legal Interpretation</td>\n",
       "      <td>Constitutional Law</td>\n",
       "      <td>undergraduate</td>\n",
       "      <td>9</td>\n",
       "      <td>False</td>\n",
       "      <td>0.958569</td>\n",
       "      <td>0.70</td>\n",
       "      <td>9</td>\n",
       "    </tr>\n",
       "    <tr>\n",
       "      <th>2</th>\n",
       "      <td>ori_mmlu-management</td>\n",
       "      <td>D</td>\n",
       "      <td>['Work delegation', 'Workload balancing', 'Wor...</td>\n",
       "      <td>business</td>\n",
       "      <td>As what is ensuring that one individual does n...</td>\n",
       "      <td>83</td>\n",
       "      <td>3</td>\n",
       "      <td>49</td>\n",
       "      <td>Economics &amp; Finance MCQs</td>\n",
       "      <td>Business &amp; Marketing Queries</td>\n",
       "      <td>high_school</td>\n",
       "      <td>9</td>\n",
       "      <td>False</td>\n",
       "      <td>0.006345</td>\n",
       "      <td>0.35</td>\n",
       "      <td>9</td>\n",
       "    </tr>\n",
       "    <tr>\n",
       "      <th>3</th>\n",
       "      <td>stemez-Business</td>\n",
       "      <td>J</td>\n",
       "      <td>['$308.25', '$142.75', '$199.99', '$225.85', '...</td>\n",
       "      <td>business</td>\n",
       "      <td>Margaret Denault recently rented a truck to dr...</td>\n",
       "      <td>94</td>\n",
       "      <td>9</td>\n",
       "      <td>118</td>\n",
       "      <td>Economics &amp; Finance MCQs</td>\n",
       "      <td>Business Finance Questions</td>\n",
       "      <td>high_school</td>\n",
       "      <td>9</td>\n",
       "      <td>False</td>\n",
       "      <td>0.456675</td>\n",
       "      <td>0.35</td>\n",
       "      <td>9</td>\n",
       "    </tr>\n",
       "    <tr>\n",
       "      <th>4</th>\n",
       "      <td>stemez-Business</td>\n",
       "      <td>I</td>\n",
       "      <td>['$60,000', '$43,200', '$1,794', '$25,000', '$...</td>\n",
       "      <td>business</td>\n",
       "      <td>The tax rate in the town of Centerville is 11(...</td>\n",
       "      <td>104</td>\n",
       "      <td>8</td>\n",
       "      <td>102</td>\n",
       "      <td>Economics &amp; Finance MCQs</td>\n",
       "      <td>Business Finance Questions</td>\n",
       "      <td>middle_school</td>\n",
       "      <td>9</td>\n",
       "      <td>False</td>\n",
       "      <td>0.506583</td>\n",
       "      <td>0.35</td>\n",
       "      <td>9</td>\n",
       "    </tr>\n",
       "    <tr>\n",
       "      <th>...</th>\n",
       "      <td>...</td>\n",
       "      <td>...</td>\n",
       "      <td>...</td>\n",
       "      <td>...</td>\n",
       "      <td>...</td>\n",
       "      <td>...</td>\n",
       "      <td>...</td>\n",
       "      <td>...</td>\n",
       "      <td>...</td>\n",
       "      <td>...</td>\n",
       "      <td>...</td>\n",
       "      <td>...</td>\n",
       "      <td>...</td>\n",
       "      <td>...</td>\n",
       "      <td>...</td>\n",
       "      <td>...</td>\n",
       "    </tr>\n",
       "    <tr>\n",
       "      <th>12013</th>\n",
       "      <td>ori_mmlu-high_school_macroeconomics</td>\n",
       "      <td>F</td>\n",
       "      <td>['Higher interest rates that result from borro...</td>\n",
       "      <td>economics</td>\n",
       "      <td>The \"crowding-out\" effect refers to which of t...</td>\n",
       "      <td>7681</td>\n",
       "      <td>5</td>\n",
       "      <td>150</td>\n",
       "      <td>Economics &amp; Finance MCQs</td>\n",
       "      <td>Economic Concepts &amp; Policies</td>\n",
       "      <td>undergraduate</td>\n",
       "      <td>9</td>\n",
       "      <td>True</td>\n",
       "      <td>0.353089</td>\n",
       "      <td>0.55</td>\n",
       "      <td>9</td>\n",
       "    </tr>\n",
       "    <tr>\n",
       "      <th>12014</th>\n",
       "      <td>ori_mmlu-high_school_macroeconomics</td>\n",
       "      <td>A</td>\n",
       "      <td>['Lower reserve requirements; lower the discou...</td>\n",
       "      <td>economics</td>\n",
       "      <td>Which of the following lists contains only Fed...</td>\n",
       "      <td>7683</td>\n",
       "      <td>0</td>\n",
       "      <td>124</td>\n",
       "      <td>Economics &amp; Finance MCQs</td>\n",
       "      <td>Economic Concepts &amp; Policies</td>\n",
       "      <td>undergraduate</td>\n",
       "      <td>10</td>\n",
       "      <td>True</td>\n",
       "      <td>0.019280</td>\n",
       "      <td>0.55</td>\n",
       "      <td>9</td>\n",
       "    </tr>\n",
       "    <tr>\n",
       "      <th>12015</th>\n",
       "      <td>ori_mmlu-high_school_macroeconomics</td>\n",
       "      <td>I</td>\n",
       "      <td>['The productivity of labor in country X is 75...</td>\n",
       "      <td>economics</td>\n",
       "      <td>Output in country X is 30000 units and there a...</td>\n",
       "      <td>7684</td>\n",
       "      <td>8</td>\n",
       "      <td>206</td>\n",
       "      <td>Economics &amp; Finance MCQs</td>\n",
       "      <td>Economic Concepts &amp; Policies</td>\n",
       "      <td>undergraduate</td>\n",
       "      <td>9</td>\n",
       "      <td>False</td>\n",
       "      <td>0.240207</td>\n",
       "      <td>0.45</td>\n",
       "      <td>9</td>\n",
       "    </tr>\n",
       "    <tr>\n",
       "      <th>12016</th>\n",
       "      <td>ori_mmlu-high_school_macroeconomics</td>\n",
       "      <td>B</td>\n",
       "      <td>['an increase in net exports', 'a decrease in ...</td>\n",
       "      <td>economics</td>\n",
       "      <td>A use of easy money (expansionary) policy by t...</td>\n",
       "      <td>7685</td>\n",
       "      <td>1</td>\n",
       "      <td>58</td>\n",
       "      <td>Economics &amp; Finance MCQs</td>\n",
       "      <td>Economic Concepts &amp; Policies</td>\n",
       "      <td>undergraduate</td>\n",
       "      <td>9</td>\n",
       "      <td>True</td>\n",
       "      <td>0.049227</td>\n",
       "      <td>0.55</td>\n",
       "      <td>10</td>\n",
       "    </tr>\n",
       "    <tr>\n",
       "      <th>12017</th>\n",
       "      <td>ori_mmlu-high_school_macroeconomics</td>\n",
       "      <td>J</td>\n",
       "      <td>['The equilibrium price is indeterminate while...</td>\n",
       "      <td>economics</td>\n",
       "      <td>Suppose the demand for a particular product fa...</td>\n",
       "      <td>7686</td>\n",
       "      <td>9</td>\n",
       "      <td>156</td>\n",
       "      <td>Economics &amp; Finance MCQs</td>\n",
       "      <td>Economic Concepts &amp; Policies</td>\n",
       "      <td>high_school</td>\n",
       "      <td>9</td>\n",
       "      <td>True</td>\n",
       "      <td>0.352565</td>\n",
       "      <td>0.35</td>\n",
       "      <td>9</td>\n",
       "    </tr>\n",
       "  </tbody>\n",
       "</table>\n",
       "<p>12018 rows × 16 columns</p>\n",
       "</div>"
      ],
      "text/plain": [
       "                                       src answer  \\\n",
       "0                   ori_mmlu-jurisprudence      C   \n",
       "1               ori_mmlu-international_law      E   \n",
       "2                      ori_mmlu-management      D   \n",
       "3                          stemez-Business      J   \n",
       "4                          stemez-Business      I   \n",
       "...                                    ...    ...   \n",
       "12013  ori_mmlu-high_school_macroeconomics      F   \n",
       "12014  ori_mmlu-high_school_macroeconomics      A   \n",
       "12015  ori_mmlu-high_school_macroeconomics      I   \n",
       "12016  ori_mmlu-high_school_macroeconomics      B   \n",
       "12017  ori_mmlu-high_school_macroeconomics      J   \n",
       "\n",
       "                                                 options   category  \\\n",
       "0      ['There is no distinction between the two form...        law   \n",
       "1      ['Article 19', 'Article 11', 'Article 12', 'Ar...        law   \n",
       "2      ['Work delegation', 'Workload balancing', 'Wor...   business   \n",
       "3      ['$308.25', '$142.75', '$199.99', '$225.85', '...   business   \n",
       "4      ['$60,000', '$43,200', '$1,794', '$25,000', '$...   business   \n",
       "...                                                  ...        ...   \n",
       "12013  ['Higher interest rates that result from borro...  economics   \n",
       "12014  ['Lower reserve requirements; lower the discou...  economics   \n",
       "12015  ['The productivity of labor in country X is 75...  economics   \n",
       "12016  ['an increase in net exports', 'a decrease in ...  economics   \n",
       "12017  ['The equilibrium price is indeterminate while...  economics   \n",
       "\n",
       "                                                question  question_id  \\\n",
       "0      Which of the following criticisms of Llewellyn...         1286   \n",
       "1      Which of the following articles are not qualif...         1293   \n",
       "2      As what is ensuring that one individual does n...           83   \n",
       "3      Margaret Denault recently rented a truck to dr...           94   \n",
       "4      The tax rate in the town of Centerville is 11(...          104   \n",
       "...                                                  ...          ...   \n",
       "12013  The \"crowding-out\" effect refers to which of t...         7681   \n",
       "12014  Which of the following lists contains only Fed...         7683   \n",
       "12015  Output in country X is 30000 units and there a...         7684   \n",
       "12016  A use of easy money (expansionary) policy by t...         7685   \n",
       "12017  Suppose the demand for a particular product fa...         7686   \n",
       "\n",
       "       answer_index  total_tokens              meta_cluster  \\\n",
       "0                 2            81      Legal Interpretation   \n",
       "1                 4            38      Legal Interpretation   \n",
       "2                 3            49  Economics & Finance MCQs   \n",
       "3                 9           118  Economics & Finance MCQs   \n",
       "4                 8           102  Economics & Finance MCQs   \n",
       "...             ...           ...                       ...   \n",
       "12013             5           150  Economics & Finance MCQs   \n",
       "12014             0           124  Economics & Finance MCQs   \n",
       "12015             8           206  Economics & Finance MCQs   \n",
       "12016             1            58  Economics & Finance MCQs   \n",
       "12017             9           156  Economics & Finance MCQs   \n",
       "\n",
       "                       base_cluster masj_complexity  masj_rating  \\\n",
       "0      Legal Theory Interpretations    postgraduate            9   \n",
       "1                Constitutional Law   undergraduate            9   \n",
       "2      Business & Marketing Queries     high_school            9   \n",
       "3        Business Finance Questions     high_school            9   \n",
       "4        Business Finance Questions   middle_school            9   \n",
       "...                             ...             ...          ...   \n",
       "12013  Economic Concepts & Policies   undergraduate            9   \n",
       "12014  Economic Concepts & Policies   undergraduate           10   \n",
       "12015  Economic Concepts & Policies   undergraduate            9   \n",
       "12016  Economic Concepts & Policies   undergraduate            9   \n",
       "12017  Economic Concepts & Policies     high_school            9   \n",
       "\n",
       "       entropy_ans_correct_phi3  entropy_value_phi3  masj_num_complexity  \\\n",
       "0                          True            0.165084                 0.70   \n",
       "1                         False            0.958569                 0.70   \n",
       "2                         False            0.006345                 0.35   \n",
       "3                         False            0.456675                 0.35   \n",
       "4                         False            0.506583                 0.35   \n",
       "...                         ...                 ...                  ...   \n",
       "12013                      True            0.353089                 0.55   \n",
       "12014                      True            0.019280                 0.55   \n",
       "12015                     False            0.240207                 0.45   \n",
       "12016                      True            0.049227                 0.55   \n",
       "12017                      True            0.352565                 0.35   \n",
       "\n",
       "       masj_num_rating  \n",
       "0                   10  \n",
       "1                    9  \n",
       "2                    9  \n",
       "3                    9  \n",
       "4                    9  \n",
       "...                ...  \n",
       "12013                9  \n",
       "12014                9  \n",
       "12015                9  \n",
       "12016               10  \n",
       "12017                9  \n",
       "\n",
       "[12018 rows x 16 columns]"
      ]
     },
     "execution_count": 10,
     "metadata": {},
     "output_type": "execute_result"
    }
   ],
   "source": [
    "# MMLU\n",
    "import ast\n",
    "\n",
    "estimate_dataset(\n",
    "    in_filename=\"../data/mmlu_pro_stem_w_maj_w_entropyphi4.tsv\",\n",
    "    out_filename=\"../data/mmlu_pro_stem_w_numerical_maj_w_entropyphi4.tsv\",\n",
    "    get_question_from_row=lambda row: row[\"question\"],\n",
    "    get_options_from_row=lambda row: ast.literal_eval(row[\"options\"]),\n",
    ")"
   ]
  },
  {
   "cell_type": "code",
   "execution_count": 11,
   "metadata": {},
   "outputs": [],
   "source": [
    "# # ARC CH\n",
    "# import os.path\n",
    "\n",
    "# import pandas as pd\n",
    "\n",
    "# ORIGINAL_DATASET = \"../data/arc_ch_validation\"\n",
    "# original_filename = f\"{ORIGINAL_DATASET}.tsv\"\n",
    "# out_filename = f\"{ORIGINAL_DATASET}_w_maj_complexity.tsv\"\n",
    "\n",
    "# if os.path.isfile(out_filename):\n",
    "#     df = pd.read_csv(\n",
    "#         out_filename,\n",
    "#         sep=\"\\t\",\n",
    "#         header=0,\n",
    "#         quoting=csv.QUOTE_NONE,\n",
    "#         quotechar=\"\",\n",
    "#         escapechar=\"\\\\\",\n",
    "#     )\n",
    "# else:\n",
    "#     df = pd.read_csv(\n",
    "#         original_filename,\n",
    "#         sep=\"\\t\",\n",
    "#         header=0,\n",
    "#     )\n",
    "# # df = df.head(10)\n",
    "\n",
    "\n",
    "# def get_options_arc(row):\n",
    "#     try:\n",
    "#         options_len = int(row[\"leng\"])\n",
    "#         options_str = row[\"text\"]\n",
    "#         options_str_without_newline = options_str.replace(\"\\n\", \"\")\n",
    "#         options_str_without_brackets = options_str_without_newline[1:-1]\n",
    "#         options_split = options_str_without_brackets.split(\"' '\")\n",
    "#         # Remove leading and trailing quotes from first and last options\n",
    "#         options_split[0] = options_split[0][1:]\n",
    "#         options_split[-1] = options_split[-1][:-1]\n",
    "#         # print(options_split, options_len)\n",
    "#         assert len(options_split) == options_len\n",
    "#         for option in options_split:\n",
    "#             assert len(option) > 0\n",
    "#         return options_split\n",
    "#     except AssertionError as e:\n",
    "#         print(f\"get_options_arc: {row['id']} -> AssertionError: {e}\")\n",
    "#         raise e\n",
    "\n",
    "\n",
    "# estimate_dataset(\n",
    "#     df=df,\n",
    "#     get_question_from_row=lambda row: row[\"question\"],\n",
    "#     get_options_from_row=get_options_arc,\n",
    "#     out_filename=out_filename,\n",
    "# )"
   ]
  },
  {
   "cell_type": "code",
   "execution_count": null,
   "metadata": {},
   "outputs": [],
   "source": [
    "# # SCIQ\n",
    "# from random import shuffle\n",
    "\n",
    "\n",
    "# def get_options_sciq(row):\n",
    "#     try:\n",
    "#         options_len = 4\n",
    "#         correct_option = row[\"correct\"]\n",
    "#         other_options = [row[\"incorrect1\"], row[\"incorrect2\"], row[\"incorrect3\"]]\n",
    "#         all_options = [correct_option] + other_options\n",
    "#         shuffle(all_options)\n",
    "\n",
    "#         assert len(all_options) == options_len\n",
    "#         for option in all_options:\n",
    "#             assert len(option) > 0\n",
    "#         return all_options\n",
    "#     except AssertionError as e:\n",
    "#         print(f\"get_options_sciq: {row['id']} -> AssertionError: {e}\")\n",
    "#         raise e\n",
    "\n",
    "\n",
    "# estimate_dataset(\n",
    "#     in_filename=\"../data/sciq_train.tsv\",\n",
    "#     out_filename=\"../data/sciq_train_w_maj_complexity.tsv\",\n",
    "#     get_question_from_row=lambda row: row[\"question\"],\n",
    "#     get_options_from_row=get_options_sciq,\n",
    "# )\n",
    "# estimate_dataset(\n",
    "#     in_filename=\"../data/sciq_test.tsv\",\n",
    "#     out_filename=\"../data/sciq_test_w_maj_complexity.tsv\",\n",
    "#     get_question_from_row=lambda row: row[\"question\"],\n",
    "#     get_options_from_row=get_options_sciq,\n",
    "# )\n",
    "# estimate_dataset(\n",
    "#     in_filename=\"../data/sciq_validation.tsv\",\n",
    "#     out_filename=\"../data/sciq_validation_w_maj_complexity.tsv\",\n",
    "#     get_question_from_row=lambda row: row[\"question\"],\n",
    "#     get_options_from_row=get_options_sciq,\n",
    "# )\n"
   ]
  }
 ],
 "metadata": {
  "kernelspec": {
   "display_name": ".venv",
   "language": "python",
   "name": "python3"
  },
  "language_info": {
   "codemirror_mode": {
    "name": "ipython",
    "version": 3
   },
   "file_extension": ".py",
   "mimetype": "text/x-python",
   "name": "python",
   "nbconvert_exporter": "python",
   "pygments_lexer": "ipython3",
   "version": "3.12.7"
  }
 },
 "nbformat": 4,
 "nbformat_minor": 2
}
