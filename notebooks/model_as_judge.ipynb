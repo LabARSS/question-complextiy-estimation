{
 "cells": [
  {
   "cell_type": "code",
   "execution_count": 1,
   "metadata": {},
   "outputs": [
    {
     "name": "stdout",
     "output_type": "stream",
     "text": [
      "mistral-large-2411 Choosing the \"best\" French cheese can be\n",
      "mistral-large-2411 Determining the \"best\" French cheese can\n",
      "mistral-large-2411 Determining the \"best\" French cheese can\n"
     ]
    }
   ],
   "source": [
    "import os\n",
    "\n",
    "from mistralai import Mistral\n",
    "\n",
    "api_keys = os.environ[\"MISTRAL_API_KEYS\"]\n",
    "model = \"mistral-large-2411\"\n",
    "\n",
    "clients = [\n",
    "    Mistral(\n",
    "        api_key=api_key,\n",
    "    )\n",
    "    for api_key in api_keys.split(\",\")\n",
    "]\n",
    "\n",
    "for client in clients:\n",
    "    # Check API is alive\n",
    "    chat_response = client.chat.complete(\n",
    "        model=model,\n",
    "        messages=[\n",
    "            {\n",
    "                \"role\": \"user\",\n",
    "                \"content\": \"What is the best French cheese?\",\n",
    "            },\n",
    "        ],\n",
    "        max_tokens=10,\n",
    "    )\n",
    "    print(chat_response.model, chat_response.choices[0].message.content)"
   ]
  },
  {
   "cell_type": "code",
   "execution_count": 2,
   "metadata": {},
   "outputs": [
    {
     "name": "stdout",
     "output_type": "stream",
     "text": [
      "Sleep duration: 0\n"
     ]
    }
   ],
   "source": [
    "from time import sleep\n",
    "\n",
    "from mistralai import SDKError\n",
    "from openai import RateLimitError\n",
    "\n",
    "SLEEP_DURATION = 1.2\n",
    "if len(clients) == 2:\n",
    "    SLEEP_DURATION = 0.5\n",
    "if len(clients) >= 3:\n",
    "    SLEEP_DURATION = 0\n",
    "\n",
    "print(\"Sleep duration:\", SLEEP_DURATION)\n",
    "\n",
    "\n",
    "def wait(duration=SLEEP_DURATION):\n",
    "    sleep(duration)\n",
    "\n",
    "\n",
    "api_limit_hits = 0\n",
    "\n",
    "\n",
    "def repeat_if_hit_api_limit(f):  # (1)\n",
    "    def wrapper(*args, **kw):  # (2)\n",
    "        global api_limit_hits\n",
    "\n",
    "        while True:\n",
    "            try:\n",
    "                return f(*args, **kw)\n",
    "            except RateLimitError:\n",
    "                api_limit_hits += 1\n",
    "                if (api_limit_hits % 10) == 0:\n",
    "                    print(f\"API limit hit {api_limit_hits} times\")\n",
    "                wait(1)\n",
    "            except SDKError as e:\n",
    "                if e.status_code == 429:\n",
    "                    api_limit_hits += 1\n",
    "                    if (api_limit_hits % 10) == 0:\n",
    "                        print(f\"API limit hit {api_limit_hits} times\")\n",
    "                    wait(1)\n",
    "                else:\n",
    "                    raise e\n",
    "            except Exception as e:\n",
    "                print(\"repeat_if_hit_api_limit -> unknown error\", e)\n",
    "                wait(60)\n",
    "\n",
    "    return wrapper"
   ]
  },
  {
   "cell_type": "code",
   "execution_count": 3,
   "metadata": {},
   "outputs": [],
   "source": [
    "request_id = 0\n",
    "\n",
    "\n",
    "@repeat_if_hit_api_limit\n",
    "def query_model(messages):\n",
    "    global request_id\n",
    "    client = clients[request_id % len(clients)]\n",
    "    request_id += 1\n",
    "    response = client.chat.complete(model=model, messages=messages)\n",
    "    return response"
   ]
  },
  {
   "cell_type": "code",
   "execution_count": 4,
   "metadata": {},
   "outputs": [
    {
     "data": {
      "text/plain": [
       "<module 'utils.prompt' from '/Users/aigoncharov/dev/sktech/phi-4/utils/prompt.py'>"
      ]
     },
     "execution_count": 4,
     "metadata": {},
     "output_type": "execute_result"
    }
   ],
   "source": [
    "import os\n",
    "import sys\n",
    "\n",
    "dir2 = os.path.abspath(\"\")\n",
    "dir1 = os.path.dirname(dir2)\n",
    "if dir1 not in sys.path:\n",
    "    sys.path.append(dir1)\n",
    "\n",
    "import importlib\n",
    "\n",
    "import utils.prompt as prompt\n",
    "\n",
    "# Required to purge the module cache and use the latest version after an update\n",
    "importlib.reload(prompt)"
   ]
  },
  {
   "cell_type": "code",
   "execution_count": 5,
   "metadata": {},
   "outputs": [
    {
     "name": "stderr",
     "output_type": "stream",
     "text": [
      " 61%|██████▏   | 7393/12032 [00:00<00:00, 73919.67it/s]"
     ]
    },
    {
     "name": "stdout",
     "output_type": "stream",
     "text": [
      "Could not extract complexity from response:\n",
      "To evaluate the complexity of this question, we need to consider the concepts it involves and the level of understanding required to answer it. The question asks about Hermitian operators, which are a concept from linear algebra and quantum mechanics. Specifically, it asks about the Hermiticity of differential operators, which is a topic covered in advanced undergraduate or postgraduate courses in mathematics, physics, or engineering.\n",
      "\n",
      "Understanding Hermitian operators requires a solid foundation in linear algebra, calculus, and differential equations. Moreover, the question requires knowledge of the properties of specific differential operators and how to determine if they are Hermitian. This level of specialized knowledge is typically not covered in high school or middle school curricula.\n",
      "\n",
      "Complexity: [postgraduate]\n",
      "\n"
     ]
    },
    {
     "name": "stderr",
     "output_type": "stream",
     "text": [
      " 84%|████████▍ | 10101/12032 [11:34<3:03:35,  5.70s/it]"
     ]
    },
    {
     "name": "stdout",
     "output_type": "stream",
     "text": [
      "Over 10100 iterations we hit 0 API limits\n"
     ]
    },
    {
     "name": "stderr",
     "output_type": "stream",
     "text": [
      " 85%|████████▍ | 10201/12032 [21:24<2:41:19,  5.29s/it]"
     ]
    },
    {
     "name": "stdout",
     "output_type": "stream",
     "text": [
      "Over 10200 iterations we hit 0 API limits\n"
     ]
    },
    {
     "name": "stderr",
     "output_type": "stream",
     "text": [
      " 85%|████████▍ | 10208/12032 [22:02<2:28:20,  4.88s/it]"
     ]
    },
    {
     "name": "stdout",
     "output_type": "stream",
     "text": [
      "Could not extract rating from response:\n",
      "The assistant's response provides a clear and concise explanation of the knowledge required to answer the question. The question involves understanding periodic trends in electronegativity and bond strength, which are typically covered in undergraduate-level chemistry courses. The response accurately reflects the complexity of the question by noting that it requires applying fundamental chemical concepts to determine acid strength.\n",
      "\n",
      "Complexity: [[undergraduate]]\n",
      "\n"
     ]
    },
    {
     "name": "stderr",
     "output_type": "stream",
     "text": [
      " 85%|████████▌ | 10280/12032 [28:48<2:47:17,  5.73s/it]"
     ]
    },
    {
     "name": "stdout",
     "output_type": "stream",
     "text": [
      "Could not extract rating from response:\n",
      "The assistant's response provides a clear and objective evaluation of the complexity of the multiple-choice question. The response breaks down the steps required to solve the problem, highlighting the need for understanding chemical reactions, stoichiometry, and molar masses. This detailed explanation aligns well with the typical curriculum covered in high school chemistry, making the complexity rating appropriate.\n",
      "\n",
      "Rating: 10\n",
      "\n"
     ]
    },
    {
     "name": "stderr",
     "output_type": "stream",
     "text": [
      " 85%|████████▌ | 10285/12032 [29:17<2:48:58,  5.80s/it]"
     ]
    },
    {
     "name": "stdout",
     "output_type": "stream",
     "text": [
      "Could not extract rating from response:\n",
      "The assistant's response demonstrates a clear understanding of the accounting principles involved in the question, particularly the concept of commercial substance in asset exchanges. The explanation correctly identifies that the question aligns with topics covered in intermediate accounting courses, typically taken at the undergraduate level. The response also highlights the key considerations—such as book value, fair value, tax implications, and future cash flows—that are relevant to determining commercial substance. This contextual understanding is crucial for evaluating the complexity of the question.\n",
      "\n",
      "Rating: [[undergraduate]]\n",
      "\n"
     ]
    },
    {
     "name": "stderr",
     "output_type": "stream",
     "text": [
      " 86%|████████▌ | 10301/12032 [30:42<2:50:40,  5.92s/it]"
     ]
    },
    {
     "name": "stdout",
     "output_type": "stream",
     "text": [
      "Over 10300 iterations we hit 0 API limits\n"
     ]
    },
    {
     "name": "stderr",
     "output_type": "stream",
     "text": [
      " 86%|████████▌ | 10336/12032 [33:52<2:53:30,  6.14s/it]"
     ]
    },
    {
     "name": "stdout",
     "output_type": "stream",
     "text": [
      "Could not extract rating from response:\n",
      "The assistant's response accurately assesses the complexity of the question. The question involves understanding specific legal concepts such as burglary, larceny, arson, and criminal negligence, as well as applying these concepts to a hypothetical scenario. This level of legal analysis typically requires knowledge gained at the undergraduate level or above, especially in courses related to law or criminal justice. The scenario also involves understanding the nuances of common law, which adds to the complexity.\n",
      "\n",
      "Rating: [[undergraduate]]\n",
      "\n"
     ]
    },
    {
     "name": "stderr",
     "output_type": "stream",
     "text": [
      " 86%|████████▌ | 10344/12032 [34:29<2:06:06,  4.48s/it]"
     ]
    },
    {
     "name": "stdout",
     "output_type": "stream",
     "text": [
      "Could not extract rating from response:\n",
      "The assistant's response provides a clear and concise evaluation of the question's complexity. The explanation highlights the need for an understanding of feminist theory and the ability to discern nuances between different feminist viewpoints, which are typically covered in undergraduate-level studies. The response correctly identifies that the question requires familiarity with the concept of \"difference feminism\" and the ability to critically evaluate and differentiate between various statements.\n",
      "\n",
      "The assistant correctly rates the complexity of the question as \"[[undergraduate]]\".\n",
      "\n"
     ]
    },
    {
     "name": "stderr",
     "output_type": "stream",
     "text": [
      " 86%|████████▌ | 10358/12032 [35:45<2:28:17,  5.32s/it]"
     ]
    },
    {
     "name": "stdout",
     "output_type": "stream",
     "text": [
      "Could not extract rating from response:\n",
      "The assistant's response provides a clear and concise explanation of the complexity of the given multiple-choice question. The response correctly identifies that the question involves understanding chemical equilibrium, specifically the dissolution of a precipitate using a complex ion formation. It also mentions the need to set up an ICE table and use given equilibrium constants, which requires algebraic manipulation and understanding of molarity calculations. This explanation is relevant, accurate, and helpful in determining the complexity of the question.\n",
      "\n",
      "Rating: 10\n",
      "\n"
     ]
    },
    {
     "name": "stderr",
     "output_type": "stream",
     "text": [
      " 86%|████████▋ | 10401/12032 [39:36<3:03:25,  6.75s/it]"
     ]
    },
    {
     "name": "stdout",
     "output_type": "stream",
     "text": [
      "Over 10400 iterations we hit 0 API limits\n"
     ]
    },
    {
     "name": "stderr",
     "output_type": "stream",
     "text": [
      " 87%|████████▋ | 10437/12032 [43:10<2:23:29,  5.40s/it]"
     ]
    },
    {
     "name": "stdout",
     "output_type": "stream",
     "text": [
      "Could not extract rating from response:\n",
      "The assistant's response provides a clear and concise explanation of the physics concepts involved in the question, highlighting the need to understand rolling friction, power, and force calculations. The response also mentions the necessity of unit conversions, which adds to the complexity of the problem. This level of understanding is typically covered in high school physics courses, making the assessment appropriate.\n",
      "\n",
      "Complexity: [[high_school]]\n",
      "\n"
     ]
    },
    {
     "name": "stderr",
     "output_type": "stream",
     "text": [
      " 87%|████████▋ | 10457/12032 [45:10<2:11:36,  5.01s/it]"
     ]
    },
    {
     "name": "stdout",
     "output_type": "stream",
     "text": [
      "Could not extract rating from response:\n",
      "The assistant's response provides a clear and concise explanation of the concepts required to solve the problem. The question involves understanding angular acceleration and converting units from revolutions per minute (rpm) to radians per second, which are typically covered in high school physics courses. The response accurately identifies the complexity of the question by considering the prerequisite knowledge and skills needed to solve it.\n",
      "\n",
      "Complexity: [[high_school]]\n",
      "\n"
     ]
    },
    {
     "name": "stderr",
     "output_type": "stream",
     "text": [
      " 87%|████████▋ | 10501/12032 [49:24<1:55:39,  4.53s/it]"
     ]
    },
    {
     "name": "stdout",
     "output_type": "stream",
     "text": [
      "Over 10500 iterations we hit 0 API limits\n"
     ]
    },
    {
     "name": "stderr",
     "output_type": "stream",
     "text": [
      " 88%|████████▊ | 10545/12032 [53:49<2:25:43,  5.88s/it]"
     ]
    },
    {
     "name": "stdout",
     "output_type": "stream",
     "text": [
      "Could not extract rating from response:\n",
      "The assistant's response accurately assesses the complexity of the question. The problem involves calculating the equilibrium constant for a chemical reaction, which is a fundamental concept in chemical equilibrium. This topic is typically introduced in high school chemistry courses, where students learn about the law of mass action and how to use it to determine equilibrium constants. The calculation requires basic algebraic manipulation and an understanding of chemical concentrations, which are within the skill set of a high school student who has studied chemistry.\n",
      "\n",
      "Complexity: [[high_school]]\n",
      "\n"
     ]
    },
    {
     "name": "stderr",
     "output_type": "stream",
     "text": [
      " 88%|████████▊ | 10601/12032 [59:20<2:12:59,  5.58s/it]"
     ]
    },
    {
     "name": "stdout",
     "output_type": "stream",
     "text": [
      "Over 10600 iterations we hit 0 API limits\n"
     ]
    },
    {
     "name": "stderr",
     "output_type": "stream",
     "text": [
      " 89%|████████▊ | 10650/12032 [1:04:23<1:53:00,  4.91s/it]"
     ]
    },
    {
     "name": "stdout",
     "output_type": "stream",
     "text": [
      "Could not extract rating from response:\n",
      "The assistant's response accurately assesses the complexity of the question. The problem involves stoichiometry, which is typically introduced in high school chemistry courses. Students need to understand how to balance chemical equations and use molar ratios to determine the volumes of reactants and products. This level of understanding is generally expected at the high school level.\n",
      "\n",
      "Complexity: [[high_school]]\n",
      "\n"
     ]
    },
    {
     "name": "stderr",
     "output_type": "stream",
     "text": [
      " 89%|████████▊ | 10677/12032 [1:06:46<2:12:05,  5.85s/it]"
     ]
    },
    {
     "name": "stdout",
     "output_type": "stream",
     "text": [
      "Could not extract rating from response:\n",
      "The assistant's response provides a clear and concise explanation of the knowledge and skills required to solve the problem. The question involves understanding the concept of isotopes and calculating the average atomic mass based on the given data. This requires basic mathematical operations such as multiplication and addition, as well as understanding percentages and converting them to decimal form. These are typically skills taught at the high school level.\n",
      "\n",
      "The assistant accurately identifies the complexity of the question by considering the necessary background knowledge and mathematical skills. The explanation is objective and aligns well with the educational standards expected at the high school level.\n",
      "\n",
      "Complexity: [[high_school]]\n",
      "\n"
     ]
    },
    {
     "name": "stderr",
     "output_type": "stream",
     "text": [
      " 89%|████████▉ | 10701/12032 [1:09:00<1:55:24,  5.20s/it]"
     ]
    },
    {
     "name": "stdout",
     "output_type": "stream",
     "text": [
      "Over 10700 iterations we hit 0 API limits\n"
     ]
    },
    {
     "name": "stderr",
     "output_type": "stream",
     "text": [
      " 90%|████████▉ | 10801/12032 [1:18:30<1:58:17,  5.77s/it]"
     ]
    },
    {
     "name": "stdout",
     "output_type": "stream",
     "text": [
      "Over 10800 iterations we hit 0 API limits\n"
     ]
    },
    {
     "name": "stderr",
     "output_type": "stream",
     "text": [
      " 90%|█████████ | 10864/12032 [1:24:55<2:37:46,  8.10s/it]"
     ]
    },
    {
     "name": "stdout",
     "output_type": "stream",
     "text": [
      "Could not extract rating from response:\n",
      "The assistant's response provides a clear and concise explanation of why the question requires a certain level of complexity. The response highlights that the question involves understanding specific philosophical concepts and the views of particular philosophers, namely Anscombe and Sidgwick. This indicates that the question is not merely about general knowledge but requires a deeper understanding of ethical theories and their interpretations, which is typically covered in undergraduate-level philosophy courses.\n",
      "\n",
      "The assistant correctly identifies that the question is complex because it involves nuanced philosophical ideas and the ability to differentiate between the views of different philosophers. This level of understanding is usually developed through more advanced study, making the question suitable for an undergraduate-level complexity rating.\n",
      "\n",
      "Rating: [[undergraduate]]\n",
      "\n"
     ]
    },
    {
     "name": "stderr",
     "output_type": "stream",
     "text": [
      " 90%|█████████ | 10867/12032 [1:25:10<1:57:22,  6.05s/it]"
     ]
    },
    {
     "name": "stdout",
     "output_type": "stream",
     "text": [
      "Could not extract rating from response:\n",
      "The assistant's response accurately assesses the complexity of the question. The question involves several steps of chemical calculations, including determining the molarity of the sulfuric acid solution, using the stoichiometry of the neutralization reaction, and applying the principles of titration to find the concentration of the sodium hydroxide solution. These concepts are typically covered in undergraduate-level chemistry courses, making the complexity rating appropriate.\n",
      "\n",
      "Rating: [[undergraduate]]\n",
      "\n"
     ]
    },
    {
     "name": "stderr",
     "output_type": "stream",
     "text": [
      " 91%|█████████ | 10901/12032 [1:28:40<1:37:23,  5.17s/it]"
     ]
    },
    {
     "name": "stdout",
     "output_type": "stream",
     "text": [
      "Over 10900 iterations we hit 0 API limits\n"
     ]
    },
    {
     "name": "stderr",
     "output_type": "stream",
     "text": [
      " 91%|█████████▏| 11001/12032 [1:38:10<1:23:26,  4.86s/it]"
     ]
    },
    {
     "name": "stdout",
     "output_type": "stream",
     "text": [
      "Over 11000 iterations we hit 0 API limits\n"
     ]
    },
    {
     "name": "stderr",
     "output_type": "stream",
     "text": [
      " 92%|█████████▏| 11101/12032 [1:48:09<1:21:33,  5.26s/it]"
     ]
    },
    {
     "name": "stdout",
     "output_type": "stream",
     "text": [
      "Over 11100 iterations we hit 0 API limits\n"
     ]
    },
    {
     "name": "stderr",
     "output_type": "stream",
     "text": [
      " 92%|█████████▏| 11128/12032 [1:50:46<1:20:38,  5.35s/it]"
     ]
    },
    {
     "name": "stdout",
     "output_type": "stream",
     "text": [
      "Could not extract rating from response:\n",
      "The assistant's response accurately assesses the complexity of the question. The question involves principles of classical mechanics, specifically the conservation of momentum, which is typically introduced in high school physics courses. The problem requires setting up equations and solving for unknowns, which are skills developed in high school algebra and physics classes. The context and the steps required to solve the problem align well with the high school curriculum.\n",
      "\n",
      "Complexity: [[high_school]]\n",
      "\n"
     ]
    },
    {
     "name": "stderr",
     "output_type": "stream",
     "text": [
      " 93%|█████████▎| 11138/12032 [1:51:44<1:19:19,  5.32s/it]"
     ]
    },
    {
     "name": "stdout",
     "output_type": "stream",
     "text": [
      "Could not extract complexity from response:\n",
      "This question requires an understanding of basic physics principles, specifically kinematics and the properties of sound. To solve the problem, one must know the equations of motion under gravity and the relationship between speed, distance, and time for sound. The student needs to calculate the time it takes for the balloon to hit the ground and then use the speed of sound to determine the height of the building. This involves setting up and solving algebraic equations, which requires a solid foundation in high school-level physics and mathematics.\n",
      "\n",
      "Complexity: undergraduate\n",
      "\n"
     ]
    },
    {
     "name": "stderr",
     "output_type": "stream",
     "text": [
      " 93%|█████████▎| 11201/12032 [1:57:38<1:15:50,  5.48s/it]"
     ]
    },
    {
     "name": "stdout",
     "output_type": "stream",
     "text": [
      "Over 11200 iterations we hit 0 API limits\n"
     ]
    },
    {
     "name": "stderr",
     "output_type": "stream",
     "text": [
      " 94%|█████████▍| 11295/12032 [2:07:45<1:27:27,  7.12s/it]"
     ]
    },
    {
     "name": "stdout",
     "output_type": "stream",
     "text": [
      "Could not extract rating from response:\n",
      "The assistant's response accurately assesses the complexity of the question. The problem involves understanding heat transfer and the principle of conservation of energy, which are typically covered in high school physics. The question requires setting up equations based on given temperatures and solving for an unknown final temperature, which is a standard high school-level problem-solving skill.\n",
      "\n",
      "Complexity: [[high_school]]\n",
      "\n"
     ]
    },
    {
     "name": "stderr",
     "output_type": "stream",
     "text": [
      " 94%|█████████▍| 11301/12032 [2:08:16<1:05:55,  5.41s/it]"
     ]
    },
    {
     "name": "stdout",
     "output_type": "stream",
     "text": [
      "Over 11300 iterations we hit 0 API limits\n",
      "Could not extract complexity from response:\n",
      "To evaluate the complexity of this question, we need to consider the specialized knowledge required to understand and answer it correctly. The question deals with mycotoxins, which are secondary metabolites produced by microfungi that are capable of causing disease and death in humans and other animals. Understanding the formation and contamination pathways of mycotoxins requires knowledge of microbiology, food science, and potentially agricultural sciences.\n",
      "\n",
      "The options provided in the question require the examinee to differentiate between various biological agents (bacteria, fungi, algae, viruses, yeasts) and environmental conditions (moist, high-light, wet, freezing temperatures, high-pressure, dry, airtight). This level of detail and specificity suggests that the question is not suited for middle school or high school students, who typically have a more general understanding of biology and food science.\n",
      "\n",
      "Instead, this question is more appropriate for undergraduate students studying microbiology, food science, or a related field, as it requires a foundational understanding of these topics but does not delve into advanced theoretical or research-based concepts that would be covered at the postgraduate or PhD level.\n",
      "\n"
     ]
    },
    {
     "name": "stderr",
     "output_type": "stream",
     "text": [
      " 95%|█████████▍| 11375/12032 [2:18:12<1:31:37,  8.37s/it]"
     ]
    },
    {
     "name": "stdout",
     "output_type": "stream",
     "text": [
      "Could not extract rating from response:\n",
      "The assistant's response provides a clear and concise explanation of the knowledge required to answer the question. The question indeed involves understanding human physiology, specifically the process of protein oxidation and its measurement, which is typically covered in undergraduate-level courses in fields such as biology, physiology, or nutrition. The response is helpful, relevant, and accurate in the context of evaluating the question's complexity.\n",
      "\n",
      "Rating the complexity of the question:\n",
      "Complexity: [[undergraduate]]\n",
      "\n"
     ]
    },
    {
     "name": "stderr",
     "output_type": "stream",
     "text": [
      " 95%|█████████▍| 11401/12032 [2:20:38<51:17,  4.88s/it]  "
     ]
    },
    {
     "name": "stdout",
     "output_type": "stream",
     "text": [
      "Over 11400 iterations we hit 0 API limits\n"
     ]
    },
    {
     "name": "stderr",
     "output_type": "stream",
     "text": [
      " 95%|█████████▌| 11441/12032 [2:24:26<48:39,  4.94s/it]  "
     ]
    },
    {
     "name": "stdout",
     "output_type": "stream",
     "text": [
      "Could not extract rating from response:\n",
      "The assistant's response accurately assesses the complexity of the question by considering the medical terminology and statistical knowledge required to understand and answer it. The question involves understanding bone density conditions (osteopenia and osteoporosis), their diagnostic criteria, and prevalence data among specific age groups in North America and Western Europe. This level of knowledge is typically covered in undergraduate studies, particularly in health sciences or related fields.\n",
      "\n",
      "Complexity: [[undergraduate]]\n",
      "\n"
     ]
    },
    {
     "name": "stderr",
     "output_type": "stream",
     "text": [
      " 96%|█████████▌| 11501/12032 [2:30:32<54:36,  6.17s/it]  "
     ]
    },
    {
     "name": "stdout",
     "output_type": "stream",
     "text": [
      "Over 11500 iterations we hit 0 API limits\n"
     ]
    },
    {
     "name": "stderr",
     "output_type": "stream",
     "text": [
      " 96%|█████████▋| 11600/12032 [2:39:29<31:29,  4.37s/it]"
     ]
    },
    {
     "name": "stdout",
     "output_type": "stream",
     "text": [
      "Could not extract rating from response:\n",
      "The assistant's response accurately assesses the complexity of the question. The question requires an understanding of optical principles, specifically the use of the mirror formula and concepts related to concave mirrors, such as focal length and radius of curvature. Solving the problem involves applying these principles and performing mathematical calculations, which are typically covered in undergraduate-level physics courses. The response is clear, relevant, and accurately reflects the educational level at which this topic is usually taught.\n",
      "\n",
      "Complexity: [[undergraduate]]\n",
      "\n"
     ]
    },
    {
     "name": "stderr",
     "output_type": "stream",
     "text": [
      " 96%|█████████▋| 11601/12032 [2:39:37<39:00,  5.43s/it]"
     ]
    },
    {
     "name": "stdout",
     "output_type": "stream",
     "text": [
      "Over 11600 iterations we hit 0 API limits\n"
     ]
    },
    {
     "name": "stderr",
     "output_type": "stream",
     "text": [
      " 97%|█████████▋| 11701/12032 [2:48:51<24:31,  4.45s/it]"
     ]
    },
    {
     "name": "stdout",
     "output_type": "stream",
     "text": [
      "Over 11700 iterations we hit 0 API limits\n"
     ]
    },
    {
     "name": "stderr",
     "output_type": "stream",
     "text": [
      " 98%|█████████▊| 11801/12032 [2:58:31<19:32,  5.08s/it]"
     ]
    },
    {
     "name": "stdout",
     "output_type": "stream",
     "text": [
      "Over 11800 iterations we hit 0 API limits\n"
     ]
    },
    {
     "name": "stderr",
     "output_type": "stream",
     "text": [
      " 98%|█████████▊| 11806/12032 [2:58:58<18:44,  4.98s/it]"
     ]
    },
    {
     "name": "stdout",
     "output_type": "stream",
     "text": [
      "Could not extract rating from response:\n",
      "The assistant's response provides a clear and concise explanation of the knowledge required to solve the problem. The question indeed involves understanding atomic physics, specifically the Balmer series and electron transitions in the hydrogen spectrum. This topic is typically covered in undergraduate-level physics courses, making the complexity rating appropriate.\n",
      "\n",
      "Complexity: [[undergraduate]]\n",
      "\n"
     ]
    },
    {
     "name": "stderr",
     "output_type": "stream",
     "text": [
      " 98%|█████████▊| 11832/12032 [3:01:36<20:05,  6.03s/it]"
     ]
    },
    {
     "name": "stdout",
     "output_type": "stream",
     "text": [
      "Could not extract rating from response:\n",
      "The assistant's response accurately assesses the complexity of the question. The question involves understanding the principles of optical physics, specifically the properties of concave mirrors and the mirror formula. This topic is typically covered in undergraduate physics courses, as it requires a solid foundation in optics and the ability to apply theoretical knowledge to practical problems. The question is not merely about recalling facts but about applying concepts to calculate the displacement of an image, which aligns with the complexity level of undergraduate studies.\n",
      "\n",
      "Rating the complexity: [[undergraduate]]\n",
      "\n"
     ]
    },
    {
     "name": "stderr",
     "output_type": "stream",
     "text": [
      " 99%|█████████▉| 11901/12032 [3:07:55<11:43,  5.37s/it]"
     ]
    },
    {
     "name": "stdout",
     "output_type": "stream",
     "text": [
      "Over 11900 iterations we hit 0 API limits\n"
     ]
    },
    {
     "name": "stderr",
     "output_type": "stream",
     "text": [
      "100%|█████████▉| 12001/12032 [3:16:40<02:58,  5.75s/it]"
     ]
    },
    {
     "name": "stdout",
     "output_type": "stream",
     "text": [
      "Over 12000 iterations we hit 0 API limits\n"
     ]
    },
    {
     "name": "stderr",
     "output_type": "stream",
     "text": [
      "100%|██████████| 12032/12032 [3:19:34<00:00,  1.00it/s]"
     ]
    },
    {
     "name": "stdout",
     "output_type": "stream",
     "text": [
      "Processed dataset ../data/mmlu_pro_stem_w_maj_complexity.tsv. Total entries: 12032. Invalid complexities: 12. Invalid ratings: 20\n"
     ]
    },
    {
     "name": "stderr",
     "output_type": "stream",
     "text": [
      "\n"
     ]
    },
    {
     "data": {
      "text/html": [
       "<div>\n",
       "<style scoped>\n",
       "    .dataframe tbody tr th:only-of-type {\n",
       "        vertical-align: middle;\n",
       "    }\n",
       "\n",
       "    .dataframe tbody tr th {\n",
       "        vertical-align: top;\n",
       "    }\n",
       "\n",
       "    .dataframe thead th {\n",
       "        text-align: right;\n",
       "    }\n",
       "</style>\n",
       "<table border=\"1\" class=\"dataframe\">\n",
       "  <thead>\n",
       "    <tr style=\"text-align: right;\">\n",
       "      <th></th>\n",
       "      <th>src</th>\n",
       "      <th>answer</th>\n",
       "      <th>options</th>\n",
       "      <th>category</th>\n",
       "      <th>question</th>\n",
       "      <th>cot_content</th>\n",
       "      <th>question_id</th>\n",
       "      <th>answer_index</th>\n",
       "      <th>total_tokens</th>\n",
       "      <th>meta_cluster</th>\n",
       "      <th>base_cluster</th>\n",
       "      <th>masj_complexity</th>\n",
       "      <th>masj_rating</th>\n",
       "    </tr>\n",
       "  </thead>\n",
       "  <tbody>\n",
       "    <tr>\n",
       "      <th>0</th>\n",
       "      <td>ori_mmlu-jurisprudence</td>\n",
       "      <td>C</td>\n",
       "      <td>['There is no distinction between the two form...</td>\n",
       "      <td>law</td>\n",
       "      <td>Which of the following criticisms of Llewellyn...</td>\n",
       "      <td>NaN</td>\n",
       "      <td>1286</td>\n",
       "      <td>2</td>\n",
       "      <td>81</td>\n",
       "      <td>Legal Interpretation</td>\n",
       "      <td>Legal Theory Interpretations</td>\n",
       "      <td>postgraduate</td>\n",
       "      <td>9</td>\n",
       "    </tr>\n",
       "    <tr>\n",
       "      <th>1</th>\n",
       "      <td>ori_mmlu-international_law</td>\n",
       "      <td>E</td>\n",
       "      <td>['Article 19', 'Article 11', 'Article 12', 'Ar...</td>\n",
       "      <td>law</td>\n",
       "      <td>Which of the following articles are not qualif...</td>\n",
       "      <td>NaN</td>\n",
       "      <td>1293</td>\n",
       "      <td>4</td>\n",
       "      <td>38</td>\n",
       "      <td>Legal Interpretation</td>\n",
       "      <td>Constitutional Law</td>\n",
       "      <td>undergraduate</td>\n",
       "      <td>9</td>\n",
       "    </tr>\n",
       "    <tr>\n",
       "      <th>2</th>\n",
       "      <td>ori_mmlu-management</td>\n",
       "      <td>D</td>\n",
       "      <td>['Work delegation', 'Workload balancing', 'Wor...</td>\n",
       "      <td>business</td>\n",
       "      <td>As what is ensuring that one individual does n...</td>\n",
       "      <td>NaN</td>\n",
       "      <td>83</td>\n",
       "      <td>3</td>\n",
       "      <td>49</td>\n",
       "      <td>Economics &amp; Finance MCQs</td>\n",
       "      <td>Business &amp; Marketing Queries</td>\n",
       "      <td>high_school</td>\n",
       "      <td>9</td>\n",
       "    </tr>\n",
       "    <tr>\n",
       "      <th>3</th>\n",
       "      <td>stemez-Business</td>\n",
       "      <td>J</td>\n",
       "      <td>['$308.25', '$142.75', '$199.99', '$225.85', '...</td>\n",
       "      <td>business</td>\n",
       "      <td>Margaret Denault recently rented a truck to dr...</td>\n",
       "      <td>NaN</td>\n",
       "      <td>94</td>\n",
       "      <td>9</td>\n",
       "      <td>118</td>\n",
       "      <td>Economics &amp; Finance MCQs</td>\n",
       "      <td>Business Finance Questions</td>\n",
       "      <td>high_school</td>\n",
       "      <td>9</td>\n",
       "    </tr>\n",
       "    <tr>\n",
       "      <th>4</th>\n",
       "      <td>stemez-Business</td>\n",
       "      <td>I</td>\n",
       "      <td>['$60,000', '$43,200', '$1,794', '$25,000', '$...</td>\n",
       "      <td>business</td>\n",
       "      <td>The tax rate in the town of Centerville is 11(...</td>\n",
       "      <td>NaN</td>\n",
       "      <td>104</td>\n",
       "      <td>8</td>\n",
       "      <td>102</td>\n",
       "      <td>Economics &amp; Finance MCQs</td>\n",
       "      <td>Business Finance Questions</td>\n",
       "      <td>middle_school</td>\n",
       "      <td>9</td>\n",
       "    </tr>\n",
       "    <tr>\n",
       "      <th>...</th>\n",
       "      <td>...</td>\n",
       "      <td>...</td>\n",
       "      <td>...</td>\n",
       "      <td>...</td>\n",
       "      <td>...</td>\n",
       "      <td>...</td>\n",
       "      <td>...</td>\n",
       "      <td>...</td>\n",
       "      <td>...</td>\n",
       "      <td>...</td>\n",
       "      <td>...</td>\n",
       "      <td>...</td>\n",
       "      <td>...</td>\n",
       "    </tr>\n",
       "    <tr>\n",
       "      <th>12027</th>\n",
       "      <td>ori_mmlu-high_school_macroeconomics</td>\n",
       "      <td>F</td>\n",
       "      <td>['Higher interest rates that result from borro...</td>\n",
       "      <td>economics</td>\n",
       "      <td>The \"crowding-out\" effect refers to which of t...</td>\n",
       "      <td>NaN</td>\n",
       "      <td>7681</td>\n",
       "      <td>5</td>\n",
       "      <td>150</td>\n",
       "      <td>Economics &amp; Finance MCQs</td>\n",
       "      <td>Economic Concepts &amp; Policies</td>\n",
       "      <td>undergraduate</td>\n",
       "      <td>9</td>\n",
       "    </tr>\n",
       "    <tr>\n",
       "      <th>12028</th>\n",
       "      <td>ori_mmlu-high_school_macroeconomics</td>\n",
       "      <td>A</td>\n",
       "      <td>['Lower reserve requirements; lower the discou...</td>\n",
       "      <td>economics</td>\n",
       "      <td>Which of the following lists contains only Fed...</td>\n",
       "      <td>NaN</td>\n",
       "      <td>7683</td>\n",
       "      <td>0</td>\n",
       "      <td>124</td>\n",
       "      <td>Economics &amp; Finance MCQs</td>\n",
       "      <td>Economic Concepts &amp; Policies</td>\n",
       "      <td>undergraduate</td>\n",
       "      <td>10</td>\n",
       "    </tr>\n",
       "    <tr>\n",
       "      <th>12029</th>\n",
       "      <td>ori_mmlu-high_school_macroeconomics</td>\n",
       "      <td>I</td>\n",
       "      <td>['The productivity of labor in country X is 75...</td>\n",
       "      <td>economics</td>\n",
       "      <td>Output in country X is 30000 units and there a...</td>\n",
       "      <td>NaN</td>\n",
       "      <td>7684</td>\n",
       "      <td>8</td>\n",
       "      <td>206</td>\n",
       "      <td>Economics &amp; Finance MCQs</td>\n",
       "      <td>Economic Concepts &amp; Policies</td>\n",
       "      <td>undergraduate</td>\n",
       "      <td>9</td>\n",
       "    </tr>\n",
       "    <tr>\n",
       "      <th>12030</th>\n",
       "      <td>ori_mmlu-high_school_macroeconomics</td>\n",
       "      <td>B</td>\n",
       "      <td>['an increase in net exports', 'a decrease in ...</td>\n",
       "      <td>economics</td>\n",
       "      <td>A use of easy money (expansionary) policy by t...</td>\n",
       "      <td>NaN</td>\n",
       "      <td>7685</td>\n",
       "      <td>1</td>\n",
       "      <td>58</td>\n",
       "      <td>Economics &amp; Finance MCQs</td>\n",
       "      <td>Economic Concepts &amp; Policies</td>\n",
       "      <td>undergraduate</td>\n",
       "      <td>9</td>\n",
       "    </tr>\n",
       "    <tr>\n",
       "      <th>12031</th>\n",
       "      <td>ori_mmlu-high_school_macroeconomics</td>\n",
       "      <td>J</td>\n",
       "      <td>['The equilibrium price is indeterminate while...</td>\n",
       "      <td>economics</td>\n",
       "      <td>Suppose the demand for a particular product fa...</td>\n",
       "      <td>NaN</td>\n",
       "      <td>7686</td>\n",
       "      <td>9</td>\n",
       "      <td>156</td>\n",
       "      <td>Economics &amp; Finance MCQs</td>\n",
       "      <td>Economic Concepts &amp; Policies</td>\n",
       "      <td>high_school</td>\n",
       "      <td>9</td>\n",
       "    </tr>\n",
       "  </tbody>\n",
       "</table>\n",
       "<p>12032 rows × 13 columns</p>\n",
       "</div>"
      ],
      "text/plain": [
       "                                       src answer  \\\n",
       "0                   ori_mmlu-jurisprudence      C   \n",
       "1               ori_mmlu-international_law      E   \n",
       "2                      ori_mmlu-management      D   \n",
       "3                          stemez-Business      J   \n",
       "4                          stemez-Business      I   \n",
       "...                                    ...    ...   \n",
       "12027  ori_mmlu-high_school_macroeconomics      F   \n",
       "12028  ori_mmlu-high_school_macroeconomics      A   \n",
       "12029  ori_mmlu-high_school_macroeconomics      I   \n",
       "12030  ori_mmlu-high_school_macroeconomics      B   \n",
       "12031  ori_mmlu-high_school_macroeconomics      J   \n",
       "\n",
       "                                                 options   category  \\\n",
       "0      ['There is no distinction between the two form...        law   \n",
       "1      ['Article 19', 'Article 11', 'Article 12', 'Ar...        law   \n",
       "2      ['Work delegation', 'Workload balancing', 'Wor...   business   \n",
       "3      ['$308.25', '$142.75', '$199.99', '$225.85', '...   business   \n",
       "4      ['$60,000', '$43,200', '$1,794', '$25,000', '$...   business   \n",
       "...                                                  ...        ...   \n",
       "12027  ['Higher interest rates that result from borro...  economics   \n",
       "12028  ['Lower reserve requirements; lower the discou...  economics   \n",
       "12029  ['The productivity of labor in country X is 75...  economics   \n",
       "12030  ['an increase in net exports', 'a decrease in ...  economics   \n",
       "12031  ['The equilibrium price is indeterminate while...  economics   \n",
       "\n",
       "                                                question  cot_content  \\\n",
       "0      Which of the following criticisms of Llewellyn...          NaN   \n",
       "1      Which of the following articles are not qualif...          NaN   \n",
       "2      As what is ensuring that one individual does n...          NaN   \n",
       "3      Margaret Denault recently rented a truck to dr...          NaN   \n",
       "4      The tax rate in the town of Centerville is 11(...          NaN   \n",
       "...                                                  ...          ...   \n",
       "12027  The \"crowding-out\" effect refers to which of t...          NaN   \n",
       "12028  Which of the following lists contains only Fed...          NaN   \n",
       "12029  Output in country X is 30000 units and there a...          NaN   \n",
       "12030  A use of easy money (expansionary) policy by t...          NaN   \n",
       "12031  Suppose the demand for a particular product fa...          NaN   \n",
       "\n",
       "       question_id  answer_index  total_tokens              meta_cluster  \\\n",
       "0             1286             2            81      Legal Interpretation   \n",
       "1             1293             4            38      Legal Interpretation   \n",
       "2               83             3            49  Economics & Finance MCQs   \n",
       "3               94             9           118  Economics & Finance MCQs   \n",
       "4              104             8           102  Economics & Finance MCQs   \n",
       "...            ...           ...           ...                       ...   \n",
       "12027         7681             5           150  Economics & Finance MCQs   \n",
       "12028         7683             0           124  Economics & Finance MCQs   \n",
       "12029         7684             8           206  Economics & Finance MCQs   \n",
       "12030         7685             1            58  Economics & Finance MCQs   \n",
       "12031         7686             9           156  Economics & Finance MCQs   \n",
       "\n",
       "                       base_cluster masj_complexity  masj_rating  \n",
       "0      Legal Theory Interpretations    postgraduate            9  \n",
       "1                Constitutional Law   undergraduate            9  \n",
       "2      Business & Marketing Queries     high_school            9  \n",
       "3        Business Finance Questions     high_school            9  \n",
       "4        Business Finance Questions   middle_school            9  \n",
       "...                             ...             ...          ...  \n",
       "12027  Economic Concepts & Policies   undergraduate            9  \n",
       "12028  Economic Concepts & Policies   undergraduate           10  \n",
       "12029  Economic Concepts & Policies   undergraduate            9  \n",
       "12030  Economic Concepts & Policies   undergraduate            9  \n",
       "12031  Economic Concepts & Policies     high_school            9  \n",
       "\n",
       "[12032 rows x 13 columns]"
      ]
     },
     "execution_count": 5,
     "metadata": {},
     "output_type": "execute_result"
    }
   ],
   "source": [
    "import ast\n",
    "import csv\n",
    "import os.path\n",
    "import re\n",
    "\n",
    "import pandas as pd\n",
    "from tqdm import tqdm\n",
    "\n",
    "import utils.prompt as prompt\n",
    "\n",
    "difficulty = [\"middle_school\", \"high_school\", \"undergraduate\", \"postgraduate\", \"phd\"]\n",
    "ratings = list(range(1, 11, 1))\n",
    "\n",
    "invalid_complexities = 0\n",
    "invalid_ratings = 0\n",
    "\n",
    "\n",
    "def model_as_judge(index, system_prompt, user_prompt, answer):\n",
    "    global invalid_ratings\n",
    "\n",
    "    chat_response = query_model(\n",
    "        [\n",
    "            {\n",
    "                \"role\": \"system\",\n",
    "                \"content\": 'Please act as an impartial judge and evaluate the quality of the response provided by an AI assistant to the user request displayed below. Your evaluation should consider factors such as the following all the settings in the system prompt, correspondences to the context of the user, the helpfulness, relevance and accuracy. Begin your evaluation by providing a short explanation. Be as objective as possible. After providing your explanation, you must rate the response on a scale of 1 to 10 by strictly following this format: \"[[rating]]\", for example:\"Rating: [[6]]\".',\n",
    "            },\n",
    "            {\n",
    "                \"role\": \"user\",\n",
    "                \"content\": f\"\"\"\n",
    "                [Instructions for Assistant]\n",
    "                {system_prompt}\n",
    "                [End of Instructions for Assistant]\n",
    "\n",
    "                [Question]\n",
    "                {user_prompt}\n",
    "                [End of Question]\n",
    "\n",
    "                [The Start of Assistant’s Answer]\n",
    "                {answer}\n",
    "                [The End of Assistant’s Answer]\n",
    "                \"\"\",\n",
    "            },\n",
    "        ]\n",
    "    )\n",
    "    response = chat_response.choices[0].message.content\n",
    "    # print(response)\n",
    "\n",
    "    try:\n",
    "        rating = re.search(\"\\\\[\\\\[(\\\\d+?)\\\\]\\\\]\", response).group(1)\n",
    "        # print(rating)\n",
    "        rating_int = int(rating)\n",
    "        if rating_int in ratings:\n",
    "            df.at[index, \"masj_rating\"] = rating_int\n",
    "        else:\n",
    "            invalid_ratings += 1\n",
    "    except:\n",
    "        print(f\"Could not extract rating from response:\\n{response}\\n\")\n",
    "        invalid_ratings += 1\n",
    "\n",
    "\n",
    "@repeat_if_hit_api_limit\n",
    "def estimate_complextiy_with_model(index, system_prompt, user_prompt):\n",
    "    global invalid_complexities\n",
    "\n",
    "    chat_response = query_model(\n",
    "        [\n",
    "            {\n",
    "                \"role\": \"system\",\n",
    "                \"content\": system_prompt,\n",
    "            },\n",
    "            {\n",
    "                \"role\": \"user\",\n",
    "                \"content\": f\"\"\"\n",
    "                [Question Start]\n",
    "                {user_prompt}\n",
    "                [Question End]\n",
    "                \"\"\",\n",
    "            },\n",
    "        ]\n",
    "    )\n",
    "    response = chat_response.choices[0].message.content\n",
    "    # print(response)\n",
    "\n",
    "    try:\n",
    "        complexity = re.search(\"\\\\[\\\\[(.+?)\\\\]\\\\]\", response).group(1)\n",
    "        # print(complexity)\n",
    "\n",
    "        if complexity in difficulty:\n",
    "            df.at[index, \"masj_complexity\"] = complexity\n",
    "        else:\n",
    "            invalid_complexities += 1\n",
    "    except:\n",
    "        print(f\"Could not extract complexity from response:\\n{response}\\n\")\n",
    "        invalid_complexities += 1\n",
    "\n",
    "    return response\n",
    "\n",
    "\n",
    "DUMP_EVERY = 100\n",
    "\n",
    "\n",
    "def estimate_dataset(df, get_question_from_row, get_options_from_row, out_filename):\n",
    "    if \"masj_complexity\" not in df.columns:\n",
    "        df[\"masj_complexity\"] = \"\"\n",
    "    if \"masj_rating\" not in df.columns:\n",
    "        df[\"masj_rating\"] = 0\n",
    "\n",
    "    for index, row in tqdm(df.iterrows(), total=df.shape[0]):\n",
    "        if df.at[index, \"masj_complexity\"] in difficulty and df.at[index, \"masj_rating\"] in ratings:\n",
    "            continue\n",
    "\n",
    "        complexity_system_prompt = f'You are an expert in the topic of the question. Please act as an impartial judge and evaluate the complexity of the multiple-choice question with options below. Begin your evaluation by providing a short explanation. Be as objective as possible. After providing your explanation, you must not answer the question. You must rate the question complexity by strictly following the scale: {\", \".join(difficulty)}. You must return the complexity by strictly following this format: \"[[complexity]]\", for example: \"Complexity: [[middle_school]]\".'\n",
    "        complexity_user_prompt = prompt.get_user_prompt(get_question_from_row(row), get_options_from_row(row))\n",
    "\n",
    "        response_complexity = estimate_complextiy_with_model(index, complexity_system_prompt, complexity_user_prompt)\n",
    "        wait()\n",
    "\n",
    "        model_as_judge(index, complexity_system_prompt, complexity_user_prompt, response_complexity)\n",
    "        wait()\n",
    "\n",
    "        if index % DUMP_EVERY == 0:\n",
    "            df.to_csv(out_filename, sep=\"\\t\", quoting=csv.QUOTE_NONE, quotechar=\"\", escapechar=\"\\\\\", index=False)\n",
    "            print(f\"Over {index} iterations we hit {api_limit_hits} API limits\")\n",
    "\n",
    "    df.to_csv(out_filename, sep=\"\\t\", quoting=csv.QUOTE_NONE, quotechar=\"\", escapechar=\"\\\\\", index=False)\n",
    "    print(\n",
    "        f\"Processed dataset {out_filename}. Total entries: {df.shape[0]}. Invalid complexities: {invalid_complexities}. Invalid ratings: {invalid_ratings}\"\n",
    "    )\n",
    "    return df\n",
    "\n",
    "\n",
    "ORIGINAL_DATASET = \"../data/mmlu_pro_stem\"\n",
    "original_filename = f\"{ORIGINAL_DATASET}.tsv\"\n",
    "out_filename = f\"{ORIGINAL_DATASET}_w_maj_complexity.tsv\"\n",
    "\n",
    "if os.path.isfile(out_filename):\n",
    "    df = pd.read_csv(\n",
    "        out_filename,\n",
    "        sep=\"\\t\",\n",
    "        header=0,\n",
    "        quoting=csv.QUOTE_NONE,\n",
    "        quotechar=\"\",\n",
    "        escapechar=\"\\\\\",\n",
    "    )\n",
    "else:\n",
    "    df = pd.read_csv(\n",
    "        original_filename,\n",
    "        sep=\"\\t\",\n",
    "        header=0,\n",
    "    )\n",
    "# df = df.head(10)\n",
    "\n",
    "\n",
    "estimate_dataset(\n",
    "    df=df,\n",
    "    get_question_from_row=lambda row: row[\"question\"],\n",
    "    get_options_from_row=lambda row: ast.literal_eval(row[\"options\"]),\n",
    "    out_filename=out_filename,\n",
    ")"
   ]
  }
 ],
 "metadata": {
  "kernelspec": {
   "display_name": ".venv",
   "language": "python",
   "name": "python3"
  },
  "language_info": {
   "codemirror_mode": {
    "name": "ipython",
    "version": 3
   },
   "file_extension": ".py",
   "mimetype": "text/x-python",
   "name": "python",
   "nbconvert_exporter": "python",
   "pygments_lexer": "ipython3",
   "version": "3.12.7"
  }
 },
 "nbformat": 4,
 "nbformat_minor": 2
}
