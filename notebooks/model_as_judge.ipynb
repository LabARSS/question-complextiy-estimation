{
 "cells": [
  {
   "cell_type": "code",
   "execution_count": 4,
   "metadata": {},
   "outputs": [
    {
     "name": "stdout",
     "output_type": "stream",
     "text": [
      "mistral-large-2411 Determining the \"best\" French cheese can\n"
     ]
    }
   ],
   "source": [
    "import os\n",
    "from mistralai import Mistral\n",
    "\n",
    "api_key = os.environ[\"MISTRAL_API_KEY\"]\n",
    "model = \"mistral-large-2411\"\n",
    "\n",
    "client = Mistral(\n",
    "    api_key=api_key,\n",
    ")\n",
    "\n",
    "# Check API is alive\n",
    "chat_response = client.chat.complete(\n",
    "    model=model,\n",
    "    messages=[\n",
    "        {\n",
    "            \"role\": \"user\",\n",
    "            \"content\": \"What is the best French cheese?\",\n",
    "        },\n",
    "    ],\n",
    "    max_tokens=10,\n",
    ")\n",
    "print(chat_response.model, chat_response.choices[0].message.content)"
   ]
  },
  {
   "cell_type": "code",
   "execution_count": 5,
   "metadata": {},
   "outputs": [],
   "source": [
    "from openai import RateLimitError\n",
    "from mistralai import SDKError\n",
    "from time import sleep\n",
    "\n",
    "\n",
    "def wait():\n",
    "    sleep(1.5)\n",
    "\n",
    "\n",
    "def repeat_if_hit_api_limit(f):  # (1)\n",
    "    def wrapper(*args, **kw):  # (2)\n",
    "        while True:\n",
    "            try:\n",
    "                return f(*args, **kw)\n",
    "            except RateLimitError:\n",
    "                wait()\n",
    "            except SDKError as e:\n",
    "                if e.status_code == 429:\n",
    "                    wait()\n",
    "                else:\n",
    "                    raise e\n",
    "\n",
    "    return wrapper"
   ]
  },
  {
   "cell_type": "code",
   "execution_count": null,
   "metadata": {},
   "outputs": [
    {
     "name": "stderr",
     "output_type": "stream",
     "text": [
      "  8%|▊         | 971/12032 [11:52<26:42:57,  8.70s/it]"
     ]
    },
    {
     "name": "stdout",
     "output_type": "stream",
     "text": [
      "Could not extract rating from response:\n",
      "The assistant's response demonstrates a clear understanding of the economic concepts involved in the question. The explanation highlights that the question requires not just knowledge of terms like monopolistic competition and pure competition, but also the ability to apply these concepts to a hypothetical scenario and consider the market dynamics. This level of analysis is typically expected at the undergraduate level in economics.\n",
      "\n",
      "Complexity: [[undergraduate]]\n",
      "\n"
     ]
    },
    {
     "name": "stderr",
     "output_type": "stream",
     "text": [
      "  8%|▊         | 972/12032 [11:59<25:41:36,  8.36s/it]"
     ]
    },
    {
     "name": "stdout",
     "output_type": "stream",
     "text": [
      "Could not extract rating from response:\n",
      "The assistant's response provides a clear and concise explanation of the context and requirements of the question. It accurately identifies that the question relates to economics and business studies, specifically the concept of production efficiency. The response highlights that answering the question correctly requires an understanding of different efficiency concepts, which is typically covered at the undergraduate level in economics or business courses. This evaluation is objective and relevant to the context of the question.\n",
      "\n",
      "Complexity: [[undergraduate]]\n",
      "\n"
     ]
    },
    {
     "name": "stderr",
     "output_type": "stream",
     "text": [
      "  9%|▊         | 1036/12032 [21:05<27:40:18,  9.06s/it]"
     ]
    },
    {
     "name": "stdout",
     "output_type": "stream",
     "text": [
      "Could not extract rating from response:\n",
      "The assistant's response provides a clear and concise explanation of the knowledge required to answer the question. The question indeed involves understanding monetary policy, banking operations, and the role of central banks, which are typically covered in undergraduate economics or finance courses. The response does not answer the question but instead evaluates the complexity, which is appropriate given the instructions.\n",
      "\n",
      "Rating the complexity of the question: [[undergraduate]].\n",
      "\n"
     ]
    },
    {
     "name": "stderr",
     "output_type": "stream",
     "text": [
      "  9%|▉         | 1094/12032 [29:23<22:57:19,  7.56s/it]"
     ]
    },
    {
     "name": "stdout",
     "output_type": "stream",
     "text": [
      "Could not extract rating from response:\n",
      "The assistant's response provides a clear and concise explanation of the question's complexity. The response accurately identifies that the question tests knowledge of a fundamental concept in statistics, which is typically introduced at the high school level or in introductory undergraduate statistics courses. The explanation is relevant, accurate, and helpful in understanding the context and complexity of the question.\n",
      "\n",
      "The assistant correctly rates the complexity of the question as [[high_school]].\n",
      "\n"
     ]
    },
    {
     "name": "stderr",
     "output_type": "stream",
     "text": [
      "  9%|▉         | 1117/12032 [32:58<28:24:30,  9.37s/it]"
     ]
    },
    {
     "name": "stdout",
     "output_type": "stream",
     "text": [
      "Could not extract rating from response:\n",
      "The assistant's response provides a clear and concise explanation of the principles required to understand and answer the question. The question indeed involves understanding Newton's Second Law of Motion and the concept of slope in a graph, which are typically covered in high school physics. The response also correctly identifies that the student must differentiate between inertial mass and gravitational mass, adding a layer of complexity that is still within the high school curriculum.\n",
      "\n",
      "Complexity: [[high_school]]\n",
      "\n"
     ]
    },
    {
     "name": "stderr",
     "output_type": "stream",
     "text": [
      " 10%|▉         | 1164/12032 [39:41<25:37:28,  8.49s/it]"
     ]
    },
    {
     "name": "stdout",
     "output_type": "stream",
     "text": [
      "Could not extract rating from response:\n",
      "The assistant's response correctly identifies the core concept needed to solve the problem, which is the physics formula for work done, W = m * g * h. The response also accurately explains the variables involved and the steps required to solve the problem. This question indeed aligns with high school physics curriculum, where students are introduced to such mechanical concepts and calculations.\n",
      "\n",
      "Complexity: [[high_school]]\n",
      "\n"
     ]
    },
    {
     "name": "stderr",
     "output_type": "stream",
     "text": [
      " 10%|█         | 1231/12032 [49:50<25:40:36,  8.56s/it]"
     ]
    },
    {
     "name": "stdout",
     "output_type": "stream",
     "text": [
      "Could not extract complexity from response:\n",
      "To evaluate the complexity of this question, we need to consider the principles involved and the level of understanding required to solve it. The question deals with the concept of an object falling under gravity, which is typically covered in introductory physics courses. The velocity of an object falling from rest can be determined using the equation derived from kinematics: v² = 2gh.\n",
      "\n",
      "To solve this question, one needs to:\n",
      "1. Understand the concept of free fall and the acceleration due to gravity.\n",
      "2. Apply the kinematic equation to find the final velocity.\n",
      "3. Perform basic mathematical calculations.\n",
      "\n",
      "This level of physics and mathematics is typically introduced in high school physics courses. Therefore, the complexity of the question is:\n",
      "\n",
      "Complexity: \"high_school\"\n",
      "\n"
     ]
    },
    {
     "name": "stderr",
     "output_type": "stream",
     "text": [
      " 11%|█         | 1312/12032 [1:01:34<25:50:17,  8.68s/it]"
     ]
    },
    {
     "name": "stdout",
     "output_type": "stream",
     "text": [
      "Could not extract rating from response:\n",
      "The assistant's response accurately assesses the complexity of the question. The question involves understanding basic Python syntax and the built-in `sum()` function, which is typically covered in introductory programming courses. The task of summing the elements of a list is fundamental and does not require advanced knowledge.\n",
      "\n",
      "Complexity: [[middle_school]]\n",
      "\n"
     ]
    },
    {
     "name": "stderr",
     "output_type": "stream",
     "text": [
      " 11%|█         | 1334/12032 [1:04:38<22:42:15,  7.64s/it]"
     ]
    },
    {
     "name": "stdout",
     "output_type": "stream",
     "text": [
      "Could not extract rating from response:\n",
      "The assistant's response accurately assesses the complexity of the question. The question requires knowledge of reliability engineering concepts, specifically the formula for availability, which involves understanding mean time between failures (MTBF) and mean time to repair (MTTR). This topic is typically covered in undergraduate-level engineering or computer science courses. The calculations involved are straightforward but require a foundational understanding of these concepts.\n",
      "\n",
      "Complexity: [[undergraduate]]\n",
      "\n"
     ]
    },
    {
     "name": "stderr",
     "output_type": "stream",
     "text": [
      " 11%|█         | 1336/12032 [1:04:55<24:54:52,  8.39s/it]"
     ]
    },
    {
     "name": "stdout",
     "output_type": "stream",
     "text": [
      "Could not extract rating from response:\n",
      "The assistant's response provides a clear and concise explanation of the question's requirements and the knowledge needed to answer it. The question involves translating a simple English sentence into predicate logic, which requires understanding of variables, predicates, and the conventions of predicate logic. The response accurately identifies that this task is typically covered in undergraduate-level courses, making the complexity rating appropriate.\n",
      "\n",
      "Rating: [[undergraduate]]\n",
      "\n"
     ]
    },
    {
     "name": "stderr",
     "output_type": "stream",
     "text": [
      " 12%|█▏        | 1437/12032 [1:19:15<23:07:35,  7.86s/it]"
     ]
    },
    {
     "name": "stdout",
     "output_type": "stream",
     "text": [
      "Could not extract rating from response:\n",
      "The assistant's response provides a clear and objective evaluation of the complexity of the multiple-choice question. The explanation highlights the analytical thinking and understanding of logical concepts required to answer the question, which is typically covered in an introductory logic course. The response is helpful, relevant, and accurate in the context of evaluating the question's complexity. The assistant correctly identifies that the question goes beyond basic knowledge recall and involves applying knowledge to a specific scenario, which is characteristic of undergraduate-level complexity.\n",
      "\n",
      "Complexity: [[undergraduate]]\n",
      "\n"
     ]
    },
    {
     "name": "stderr",
     "output_type": "stream",
     "text": [
      " 12%|█▏        | 1498/12032 [1:28:18<26:49:26,  9.17s/it]"
     ]
    },
    {
     "name": "stdout",
     "output_type": "stream",
     "text": [
      "Could not extract rating from response:\n",
      "The assistant's response accurately assesses the complexity of the question. The problem involves understanding transmission line theory and applying the telegrapher's equations, which are typically covered in undergraduate-level electrical engineering courses. The response is clear, concise, and directly addresses the complexity of the question without providing the answer, as instructed.\n",
      "\n",
      "Complexity: [[undergraduate]]\n",
      "\n"
     ]
    },
    {
     "name": "stderr",
     "output_type": "stream",
     "text": [
      " 13%|█▎        | 1541/12032 [1:34:51<24:55:07,  8.55s/it]"
     ]
    },
    {
     "name": "stdout",
     "output_type": "stream",
     "text": [
      "Could not extract rating from response:\n",
      "The assistant's response correctly identifies the key concepts involved in the question, namely AC motors, pole numbers, slip, and the relationship between these factors. The response also acknowledges the need to apply specific formulas and understand the behavior of motors in different configurations. This evaluation is objective and relevant to the context of the user's request.\n",
      "\n",
      "The assistant accurately assesses the complexity of the question as [[undergraduate]].\n",
      "\n"
     ]
    },
    {
     "name": "stderr",
     "output_type": "stream",
     "text": [
      " 13%|█▎        | 1569/12032 [1:38:49<23:33:35,  8.11s/it]"
     ]
    },
    {
     "name": "stdout",
     "output_type": "stream",
     "text": [
      "Could not extract rating from response:\n",
      "The assistant's response provides a clear and concise explanation of the concepts involved in the question, specifically mentioning the Joule-Thomson coefficient and the thermodynamic principles related to throttling processes. The response correctly identifies that understanding these principles is crucial for solving the problem. However, the complexity rating of \"high_school\" seems to be an underestimation. The calculation of the Joule-Thomson coefficient and the understanding of throttling processes typically fall within the scope of undergraduate-level thermodynamics courses.\n",
      "\n",
      "Rating: Complexity: [[undergraduate]]\n",
      "\n"
     ]
    },
    {
     "name": "stderr",
     "output_type": "stream",
     "text": [
      " 13%|█▎        | 1615/12032 [1:45:53<22:32:39,  7.79s/it]"
     ]
    },
    {
     "name": "stdout",
     "output_type": "stream",
     "text": [
      "Could not extract rating from response:\n",
      "The assistant's response accurately assesses the complexity of the question. The question involves basic financial concepts (stock prices and discounts), simple arithmetic operations (calculating an average and applying a percentage discount), and converting fractions to decimals. These are all skills typically taught and reinforced in high school mathematics and finance courses. The response is clear, concise, and relevant to the task at hand.\n",
      "\n",
      "Complexity: [[high_school]]\n",
      "\n"
     ]
    },
    {
     "name": "stderr",
     "output_type": "stream",
     "text": [
      " 13%|█▎        | 1619/12032 [1:46:26<23:51:21,  8.25s/it]"
     ]
    },
    {
     "name": "stdout",
     "output_type": "stream",
     "text": [
      "Could not extract rating from response:\n",
      "This evaluation is not of the AI assistant response to the question, but of the complexity of the multiple-choice question. The assistant correctly identified that the question requires an understanding of basic algebra and business cost structures, specifically fixed and variable costs. The question does not require advanced mathematical concepts or deep economic theory, making it suitable for a high school level of complexity.\n",
      "\n",
      "Complexity: [[high_school]]\n",
      "\n"
     ]
    },
    {
     "name": "stderr",
     "output_type": "stream",
     "text": [
      " 13%|█▎        | 1621/12032 [1:46:42<23:35:33,  8.16s/it]"
     ]
    },
    {
     "name": "stdout",
     "output_type": "stream",
     "text": [
      "Could not extract rating from response:\n",
      "The explanation provided by the assistant is clear and concise, accurately describing the mathematical concepts required to solve the problem. The question involves understanding percentage increases and performing basic arithmetic, which are typically covered in middle school mathematics curricula. The assistant correctly identifies that the student needs to calculate a 1% increase on the current tax amount, which involves multiplying by 1.01. This evaluation is relevant, accurate, and helpful in understanding the complexity of the question.\n",
      "\n",
      "Complexity: [[middle_school]]\n",
      "\n"
     ]
    },
    {
     "name": "stderr",
     "output_type": "stream",
     "text": [
      " 14%|█▍        | 1679/12032 [1:54:40<20:36:56,  7.17s/it]"
     ]
    },
    {
     "name": "stdout",
     "output_type": "stream",
     "text": [
      "Could not extract rating from response:\n",
      "The assistant's response provides a clear and concise explanation of the knowledge required to answer the question. The question indeed requires an understanding of tax structures and the concept of regressive taxes, which are typically introduced in high school economics or social studies curricula. The question does not require advanced mathematical calculations or deep theoretical knowledge, making it accessible to a high school student with a basic understanding of economics.\n",
      "\n",
      "Complexity: [[high_school]]\n",
      "\n"
     ]
    },
    {
     "name": "stderr",
     "output_type": "stream",
     "text": [
      " 14%|█▍        | 1702/12032 [1:57:52<22:12:22,  7.74s/it]"
     ]
    }
   ],
   "source": [
    "import os, sys\n",
    "\n",
    "dir2 = os.path.abspath(\"\")\n",
    "dir1 = os.path.dirname(dir2)\n",
    "if not dir1 in sys.path:\n",
    "    sys.path.append(dir1)\n",
    "\n",
    "import pandas as pd\n",
    "import ast\n",
    "import csv\n",
    "from tqdm import tqdm\n",
    "import re\n",
    "\n",
    "import utils.prompt as prompt\n",
    "\n",
    "import importlib\n",
    "\n",
    "# Required to purge the module cache and use the latest version after an update\n",
    "importlib.reload(prompt)\n",
    "\n",
    "difficulty = [\"middle_school\", \"high_school\", \"undergraduate\", \"postgraduate\", \"phd\"]\n",
    "ratings = list(range(1, 11, 1))\n",
    "\n",
    "invalid_complexities = 0\n",
    "invalid_ratings = 0\n",
    "\n",
    "\n",
    "@repeat_if_hit_api_limit\n",
    "def model_as_judge(client, model, index, system_prompt, user_prompt, answer):\n",
    "    global invalid_ratings\n",
    "\n",
    "    chat_response = client.chat.complete(\n",
    "        model=model,\n",
    "        messages=[\n",
    "            {\n",
    "                \"role\": \"system\",\n",
    "                \"content\": 'Please act as an impartial judge and evaluate the quality of the response provided by an AI assistant to the user request displayed below. Your evaluation should consider factors such as the following all the settings in the system prompt, correspondences to the context of the user, the helpfulness, relevance and accuracy. Begin your evaluation by providing a short explanation. Be as objective as possible. After providing your explanation, you must rate the response on a scale of 1 to 10 by strictly following this format: \"[[rating]]\", for example:\"Rating: [[6]]\".',\n",
    "            },\n",
    "            {\n",
    "                \"role\": \"user\",\n",
    "                \"content\": f\"\"\"\n",
    "                [Instructions for Assistant]\n",
    "                {system_prompt}\n",
    "                [End of Instructions for Assistant]\n",
    "\n",
    "                [Question]\n",
    "                {user_prompt}\n",
    "                [End of Question]\n",
    "\n",
    "                [The Start of Assistant’s Answer]\n",
    "                {answer}\n",
    "                [The End of Assistant’s Answer]\n",
    "                \"\"\",\n",
    "            },\n",
    "        ],\n",
    "    )\n",
    "    response = chat_response.choices[0].message.content\n",
    "    # print(response)\n",
    "\n",
    "    try:\n",
    "        rating = re.search(\"\\\\[\\\\[(\\\\d+?)\\\\]\\\\]\", response).group(1)\n",
    "        # print(rating)\n",
    "        rating_int = int(rating)\n",
    "        if rating_int in ratings:\n",
    "            df.at[index, \"masj_rating\"] = rating_int\n",
    "        else:\n",
    "            invalid_ratings += 1\n",
    "    except:\n",
    "        print(f\"Could not extract rating from response:\\n{response}\\n\")\n",
    "        invalid_ratings += 1\n",
    "\n",
    "\n",
    "@repeat_if_hit_api_limit\n",
    "def estimate_complextiy_with_model(client, model, index, system_prompt, user_prompt):\n",
    "    global invalid_complexities\n",
    "\n",
    "    chat_response = client.chat.complete(\n",
    "        model=model,\n",
    "        messages=[\n",
    "            {\n",
    "                \"role\": \"system\",\n",
    "                \"content\": system_prompt,\n",
    "            },\n",
    "            {\n",
    "                \"role\": \"user\",\n",
    "                \"content\": f\"\"\"\n",
    "                [Question Start]\n",
    "                {user_prompt}\n",
    "                [Question End]\n",
    "                \"\"\",\n",
    "            },\n",
    "        ],\n",
    "    )\n",
    "    response = chat_response.choices[0].message.content\n",
    "    # print(response)\n",
    "\n",
    "    try:\n",
    "        complexity = re.search(\"\\\\[\\\\[(.+?)\\\\]\\\\]\", response).group(1)\n",
    "        # print(complexity)\n",
    "\n",
    "        if complexity in difficulty:\n",
    "            df.at[index, \"masj_complexity\"] = complexity\n",
    "        else:\n",
    "            invalid_complexities += 1\n",
    "    except:\n",
    "        print(f\"Could not extract complexity from response:\\n{response}\\n\")\n",
    "        invalid_complexities += 1\n",
    "\n",
    "    return response\n",
    "\n",
    "\n",
    "DUMP_EVERY = 100\n",
    "\n",
    "\n",
    "def estimate_dataset(df, client, get_question_from_row, get_options_from_row, out_filename):\n",
    "    if \"masj_complexity\" not in df.columns:\n",
    "        df[\"masj_complexity\"] = \"\"\n",
    "    if \"masj_rating\" not in df.columns:\n",
    "        df[\"masj_rating\"] = 0\n",
    "\n",
    "    for index, row in tqdm(df.iterrows(), total=df.shape[0]):\n",
    "        if df.at[index, \"masj_complexity\"] in difficulty and df.at[index, \"masj_rating\"] in ratings:\n",
    "            continue\n",
    "\n",
    "        complexity_system_prompt = f'You are an expert in the topic of the question. Please act as an impartial judge and evaluate the complexity of the multiple-choice question with options below. Begin your evaluation by providing a short explanation. Be as objective as possible. After providing your explanation, you must not answer the question. You must rate the question complexity by strictly following the scale: {\", \".join(difficulty)}. You must return the complexity by strictly following this format: \"[[complexity]]\", for example: \"Complexity: [[middle_school]]\".'\n",
    "        complexity_user_prompt = prompt.get_user_prompt(get_question_from_row(row), get_options_from_row(row))\n",
    "\n",
    "        response_complexity = estimate_complextiy_with_model(\n",
    "            client, model, index, complexity_system_prompt, complexity_user_prompt\n",
    "        )\n",
    "        wait()\n",
    "\n",
    "        model_as_judge(client, model, index, complexity_system_prompt, complexity_user_prompt, response_complexity)\n",
    "        wait()\n",
    "\n",
    "        if index % DUMP_EVERY == 0:\n",
    "            df.to_csv(out_filename, sep=\"\\t\", quoting=csv.QUOTE_NONE, quotechar=\"\", escapechar=\"\\\\\", index=False)\n",
    "\n",
    "    df.to_csv(out_filename, sep=\"\\t\", quoting=csv.QUOTE_NONE, quotechar=\"\", escapechar=\"\\\\\", index=False)\n",
    "    print(\n",
    "        f\"Processed dataset {out_filename}. Total entries: {df.shape[0]}. Invalid complexities: {invalid_complexities}. Invalid ratings: {invalid_ratings}\"\n",
    "    )\n",
    "    return df\n",
    "\n",
    "\n",
    "DATASET = \"../data/mmlu_pro_stem\"\n",
    "out_filename = f\"{DATASET}_w_maj_complexity.tsv\"\n",
    "\n",
    "df = pd.read_csv(out_filename, sep=\"\\t\", header=0, quoting=csv.QUOTE_NONE, quotechar=\"\", escapechar=\"\\\\\")\n",
    "# df = df.head(10)\n",
    "\n",
    "\n",
    "estimate_dataset(\n",
    "    df=df,\n",
    "    client=client,\n",
    "    get_question_from_row=lambda row: row[\"question\"],\n",
    "    get_options_from_row=lambda row: ast.literal_eval(row[\"options\"]),\n",
    "    out_filename=out_filename,\n",
    ")"
   ]
  }
 ],
 "metadata": {
  "kernelspec": {
   "display_name": ".venv",
   "language": "python",
   "name": "python3"
  },
  "language_info": {
   "codemirror_mode": {
    "name": "ipython",
    "version": 3
   },
   "file_extension": ".py",
   "mimetype": "text/x-python",
   "name": "python",
   "nbconvert_exporter": "python",
   "pygments_lexer": "ipython3",
   "version": "3.12.7"
  }
 },
 "nbformat": 4,
 "nbformat_minor": 2
}
